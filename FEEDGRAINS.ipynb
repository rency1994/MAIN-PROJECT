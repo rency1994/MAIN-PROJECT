{
 "cells": [
  {
   "cell_type": "code",
   "execution_count": 1,
   "id": "a82ec988-0a69-4263-b800-28042c99ea74",
   "metadata": {},
   "outputs": [],
   "source": []
  },
  {
   "cell_type": "code",
   "execution_count": 1,
   "id": "478d6016-0bf9-49cb-af63-eadbeb784187",
   "metadata": {},
   "outputs": [],
   "source": [
    "#importing libraries\n",
    "import numpy as np\n",
    "import pandas as pd\n",
    "import matplotlib.pyplot as plt\n",
    "import seaborn as sns\n",
    "from sklearn.model_selection import train_test_split"
   ]
  },
  {
   "cell_type": "code",
   "execution_count": 3,
   "id": "47d1f0f6-dcf0-45e3-b473-f6bf44bc4801",
   "metadata": {},
   "outputs": [
    {
     "data": {
      "text/html": [
       "<div>\n",
       "<style scoped>\n",
       "    .dataframe tbody tr th:only-of-type {\n",
       "        vertical-align: middle;\n",
       "    }\n",
       "\n",
       "    .dataframe tbody tr th {\n",
       "        vertical-align: top;\n",
       "    }\n",
       "\n",
       "    .dataframe thead th {\n",
       "        text-align: right;\n",
       "    }\n",
       "</style>\n",
       "<table border=\"1\" class=\"dataframe\">\n",
       "  <thead>\n",
       "    <tr style=\"text-align: right;\">\n",
       "      <th></th>\n",
       "      <th>SC_Group_ID</th>\n",
       "      <th>SC_Group_Desc</th>\n",
       "      <th>SC_GroupCommod_ID</th>\n",
       "      <th>SC_GroupCommod_Desc</th>\n",
       "      <th>SC_Geography_ID</th>\n",
       "      <th>SortOrder</th>\n",
       "      <th>SC_GeographyIndented_Desc</th>\n",
       "      <th>SC_Commodity_ID</th>\n",
       "      <th>SC_Commodity_Desc</th>\n",
       "      <th>SC_Attribute_ID</th>\n",
       "      <th>SC_Attribute_Desc</th>\n",
       "      <th>SC_Unit_ID</th>\n",
       "      <th>SC_Unit_Desc</th>\n",
       "      <th>Year_ID</th>\n",
       "      <th>SC_Frequency_ID</th>\n",
       "      <th>SC_Frequency_Desc</th>\n",
       "      <th>Timeperiod_ID</th>\n",
       "      <th>Timeperiod_Desc</th>\n",
       "      <th>Amount</th>\n",
       "    </tr>\n",
       "  </thead>\n",
       "  <tbody>\n",
       "    <tr>\n",
       "      <th>0</th>\n",
       "      <td>1</td>\n",
       "      <td>Prices</td>\n",
       "      <td>17.0</td>\n",
       "      <td>Oats</td>\n",
       "      <td>1</td>\n",
       "      <td>0.8</td>\n",
       "      <td>United States</td>\n",
       "      <td>3</td>\n",
       "      <td>Oats</td>\n",
       "      <td>5</td>\n",
       "      <td>Prices received by farmers</td>\n",
       "      <td>4</td>\n",
       "      <td>Dollars per bushel</td>\n",
       "      <td>1948</td>\n",
       "      <td>1</td>\n",
       "      <td>Monthly</td>\n",
       "      <td>8</td>\n",
       "      <td>Aug</td>\n",
       "      <td>0.690000</td>\n",
       "    </tr>\n",
       "    <tr>\n",
       "      <th>1</th>\n",
       "      <td>1</td>\n",
       "      <td>Prices</td>\n",
       "      <td>17.0</td>\n",
       "      <td>Oats</td>\n",
       "      <td>1</td>\n",
       "      <td>0.8</td>\n",
       "      <td>United States</td>\n",
       "      <td>3</td>\n",
       "      <td>Oats</td>\n",
       "      <td>5</td>\n",
       "      <td>Prices received by farmers</td>\n",
       "      <td>4</td>\n",
       "      <td>Dollars per bushel</td>\n",
       "      <td>1948</td>\n",
       "      <td>1</td>\n",
       "      <td>Monthly</td>\n",
       "      <td>9</td>\n",
       "      <td>Sep</td>\n",
       "      <td>0.690000</td>\n",
       "    </tr>\n",
       "    <tr>\n",
       "      <th>2</th>\n",
       "      <td>1</td>\n",
       "      <td>Prices</td>\n",
       "      <td>17.0</td>\n",
       "      <td>Oats</td>\n",
       "      <td>1</td>\n",
       "      <td>0.8</td>\n",
       "      <td>United States</td>\n",
       "      <td>3</td>\n",
       "      <td>Oats</td>\n",
       "      <td>5</td>\n",
       "      <td>Prices received by farmers</td>\n",
       "      <td>4</td>\n",
       "      <td>Dollars per bushel</td>\n",
       "      <td>1948</td>\n",
       "      <td>1</td>\n",
       "      <td>Monthly</td>\n",
       "      <td>10</td>\n",
       "      <td>Oct</td>\n",
       "      <td>0.700000</td>\n",
       "    </tr>\n",
       "    <tr>\n",
       "      <th>3</th>\n",
       "      <td>1</td>\n",
       "      <td>Prices</td>\n",
       "      <td>17.0</td>\n",
       "      <td>Oats</td>\n",
       "      <td>1</td>\n",
       "      <td>0.8</td>\n",
       "      <td>United States</td>\n",
       "      <td>3</td>\n",
       "      <td>Oats</td>\n",
       "      <td>5</td>\n",
       "      <td>Prices received by farmers</td>\n",
       "      <td>4</td>\n",
       "      <td>Dollars per bushel</td>\n",
       "      <td>1948</td>\n",
       "      <td>1</td>\n",
       "      <td>Monthly</td>\n",
       "      <td>11</td>\n",
       "      <td>Nov</td>\n",
       "      <td>0.760000</td>\n",
       "    </tr>\n",
       "    <tr>\n",
       "      <th>4</th>\n",
       "      <td>1</td>\n",
       "      <td>Prices</td>\n",
       "      <td>17.0</td>\n",
       "      <td>Oats</td>\n",
       "      <td>1</td>\n",
       "      <td>0.8</td>\n",
       "      <td>United States</td>\n",
       "      <td>3</td>\n",
       "      <td>Oats</td>\n",
       "      <td>5</td>\n",
       "      <td>Prices received by farmers</td>\n",
       "      <td>4</td>\n",
       "      <td>Dollars per bushel</td>\n",
       "      <td>1948</td>\n",
       "      <td>1</td>\n",
       "      <td>Monthly</td>\n",
       "      <td>12</td>\n",
       "      <td>Dec</td>\n",
       "      <td>0.760000</td>\n",
       "    </tr>\n",
       "    <tr>\n",
       "      <th>...</th>\n",
       "      <td>...</td>\n",
       "      <td>...</td>\n",
       "      <td>...</td>\n",
       "      <td>...</td>\n",
       "      <td>...</td>\n",
       "      <td>...</td>\n",
       "      <td>...</td>\n",
       "      <td>...</td>\n",
       "      <td>...</td>\n",
       "      <td>...</td>\n",
       "      <td>...</td>\n",
       "      <td>...</td>\n",
       "      <td>...</td>\n",
       "      <td>...</td>\n",
       "      <td>...</td>\n",
       "      <td>...</td>\n",
       "      <td>...</td>\n",
       "      <td>...</td>\n",
       "      <td>...</td>\n",
       "    </tr>\n",
       "    <tr>\n",
       "      <th>463113</th>\n",
       "      <td>3</td>\n",
       "      <td>Exports and imports</td>\n",
       "      <td>12.0</td>\n",
       "      <td>Corn</td>\n",
       "      <td>204</td>\n",
       "      <td>187.0</td>\n",
       "      <td>China (Taiwan)</td>\n",
       "      <td>2</td>\n",
       "      <td>Corn</td>\n",
       "      <td>19</td>\n",
       "      <td>Imports, to U.S. from specified source</td>\n",
       "      <td>7</td>\n",
       "      <td>1,000 metric tons</td>\n",
       "      <td>2019</td>\n",
       "      <td>1</td>\n",
       "      <td>Monthly</td>\n",
       "      <td>7</td>\n",
       "      <td>Jul</td>\n",
       "      <td>0.631104</td>\n",
       "    </tr>\n",
       "    <tr>\n",
       "      <th>463114</th>\n",
       "      <td>2</td>\n",
       "      <td>Supply and use</td>\n",
       "      <td>12.0</td>\n",
       "      <td>Corn</td>\n",
       "      <td>204</td>\n",
       "      <td>187.0</td>\n",
       "      <td>China (Taiwan)</td>\n",
       "      <td>2</td>\n",
       "      <td>Corn</td>\n",
       "      <td>35</td>\n",
       "      <td>Exports, trade year</td>\n",
       "      <td>7</td>\n",
       "      <td>1,000 metric tons</td>\n",
       "      <td>1991</td>\n",
       "      <td>3</td>\n",
       "      <td>Annual</td>\n",
       "      <td>114</td>\n",
       "      <td>MY Oct-Sep</td>\n",
       "      <td>10.000000</td>\n",
       "    </tr>\n",
       "    <tr>\n",
       "      <th>463115</th>\n",
       "      <td>2</td>\n",
       "      <td>Supply and use</td>\n",
       "      <td>12.0</td>\n",
       "      <td>Corn</td>\n",
       "      <td>204</td>\n",
       "      <td>187.0</td>\n",
       "      <td>China (Taiwan)</td>\n",
       "      <td>2</td>\n",
       "      <td>Corn</td>\n",
       "      <td>35</td>\n",
       "      <td>Exports, trade year</td>\n",
       "      <td>7</td>\n",
       "      <td>1,000 metric tons</td>\n",
       "      <td>1992</td>\n",
       "      <td>3</td>\n",
       "      <td>Annual</td>\n",
       "      <td>114</td>\n",
       "      <td>MY Oct-Sep</td>\n",
       "      <td>17.000000</td>\n",
       "    </tr>\n",
       "    <tr>\n",
       "      <th>463116</th>\n",
       "      <td>3</td>\n",
       "      <td>Exports and imports</td>\n",
       "      <td>12.0</td>\n",
       "      <td>Corn</td>\n",
       "      <td>204</td>\n",
       "      <td>187.0</td>\n",
       "      <td>China (Taiwan)</td>\n",
       "      <td>11</td>\n",
       "      <td>Corn grain</td>\n",
       "      <td>19</td>\n",
       "      <td>Imports, to U.S. from specified source</td>\n",
       "      <td>7</td>\n",
       "      <td>1,000 metric tons</td>\n",
       "      <td>2018</td>\n",
       "      <td>3</td>\n",
       "      <td>Annual</td>\n",
       "      <td>31</td>\n",
       "      <td>MY Sep-Aug</td>\n",
       "      <td>0.000306</td>\n",
       "    </tr>\n",
       "    <tr>\n",
       "      <th>463117</th>\n",
       "      <td>3</td>\n",
       "      <td>Exports and imports</td>\n",
       "      <td>12.0</td>\n",
       "      <td>Corn</td>\n",
       "      <td>204</td>\n",
       "      <td>187.0</td>\n",
       "      <td>China (Taiwan)</td>\n",
       "      <td>11</td>\n",
       "      <td>Corn grain</td>\n",
       "      <td>19</td>\n",
       "      <td>Imports, to U.S. from specified source</td>\n",
       "      <td>7</td>\n",
       "      <td>1,000 metric tons</td>\n",
       "      <td>2019</td>\n",
       "      <td>1</td>\n",
       "      <td>Monthly</td>\n",
       "      <td>5</td>\n",
       "      <td>May</td>\n",
       "      <td>0.000306</td>\n",
       "    </tr>\n",
       "  </tbody>\n",
       "</table>\n",
       "<p>463118 rows × 19 columns</p>\n",
       "</div>"
      ],
      "text/plain": [
       "        SC_Group_ID        SC_Group_Desc  SC_GroupCommod_ID  \\\n",
       "0                 1               Prices               17.0   \n",
       "1                 1               Prices               17.0   \n",
       "2                 1               Prices               17.0   \n",
       "3                 1               Prices               17.0   \n",
       "4                 1               Prices               17.0   \n",
       "...             ...                  ...                ...   \n",
       "463113            3  Exports and imports               12.0   \n",
       "463114            2       Supply and use               12.0   \n",
       "463115            2       Supply and use               12.0   \n",
       "463116            3  Exports and imports               12.0   \n",
       "463117            3  Exports and imports               12.0   \n",
       "\n",
       "       SC_GroupCommod_Desc  SC_Geography_ID  SortOrder  \\\n",
       "0                     Oats                1        0.8   \n",
       "1                     Oats                1        0.8   \n",
       "2                     Oats                1        0.8   \n",
       "3                     Oats                1        0.8   \n",
       "4                     Oats                1        0.8   \n",
       "...                    ...              ...        ...   \n",
       "463113                Corn              204      187.0   \n",
       "463114                Corn              204      187.0   \n",
       "463115                Corn              204      187.0   \n",
       "463116                Corn              204      187.0   \n",
       "463117                Corn              204      187.0   \n",
       "\n",
       "       SC_GeographyIndented_Desc  SC_Commodity_ID SC_Commodity_Desc  \\\n",
       "0                  United States                3              Oats   \n",
       "1                  United States                3              Oats   \n",
       "2                  United States                3              Oats   \n",
       "3                  United States                3              Oats   \n",
       "4                  United States                3              Oats   \n",
       "...                          ...              ...               ...   \n",
       "463113            China (Taiwan)                2              Corn   \n",
       "463114            China (Taiwan)                2              Corn   \n",
       "463115            China (Taiwan)                2              Corn   \n",
       "463116            China (Taiwan)               11        Corn grain   \n",
       "463117            China (Taiwan)               11        Corn grain   \n",
       "\n",
       "        SC_Attribute_ID                       SC_Attribute_Desc  SC_Unit_ID  \\\n",
       "0                     5              Prices received by farmers           4   \n",
       "1                     5              Prices received by farmers           4   \n",
       "2                     5              Prices received by farmers           4   \n",
       "3                     5              Prices received by farmers           4   \n",
       "4                     5              Prices received by farmers           4   \n",
       "...                 ...                                     ...         ...   \n",
       "463113               19  Imports, to U.S. from specified source           7   \n",
       "463114               35                     Exports, trade year           7   \n",
       "463115               35                     Exports, trade year           7   \n",
       "463116               19  Imports, to U.S. from specified source           7   \n",
       "463117               19  Imports, to U.S. from specified source           7   \n",
       "\n",
       "              SC_Unit_Desc  Year_ID  SC_Frequency_ID SC_Frequency_Desc  \\\n",
       "0       Dollars per bushel     1948                1           Monthly   \n",
       "1       Dollars per bushel     1948                1           Monthly   \n",
       "2       Dollars per bushel     1948                1           Monthly   \n",
       "3       Dollars per bushel     1948                1           Monthly   \n",
       "4       Dollars per bushel     1948                1           Monthly   \n",
       "...                    ...      ...              ...               ...   \n",
       "463113   1,000 metric tons     2019                1           Monthly   \n",
       "463114   1,000 metric tons     1991                3            Annual   \n",
       "463115   1,000 metric tons     1992                3            Annual   \n",
       "463116   1,000 metric tons     2018                3            Annual   \n",
       "463117   1,000 metric tons     2019                1           Monthly   \n",
       "\n",
       "        Timeperiod_ID Timeperiod_Desc     Amount  \n",
       "0                   8             Aug   0.690000  \n",
       "1                   9             Sep   0.690000  \n",
       "2                  10             Oct   0.700000  \n",
       "3                  11             Nov   0.760000  \n",
       "4                  12             Dec   0.760000  \n",
       "...               ...             ...        ...  \n",
       "463113              7             Jul   0.631104  \n",
       "463114            114      MY Oct-Sep  10.000000  \n",
       "463115            114      MY Oct-Sep  17.000000  \n",
       "463116             31      MY Sep-Aug   0.000306  \n",
       "463117              5             May   0.000306  \n",
       "\n",
       "[463118 rows x 19 columns]"
      ]
     },
     "execution_count": 3,
     "metadata": {},
     "output_type": "execute_result"
    }
   ],
   "source": [
    "#importing dataset\n",
    "feedgrains=pd.read_csv(\"FeedGrains.csv\")\n",
    "feedgrains"
   ]
  },
  {
   "cell_type": "code",
   "execution_count": 9,
   "id": "31176889-9c61-4561-86d0-8ff6344ec043",
   "metadata": {},
   "outputs": [
    {
     "data": {
      "text/plain": [
       "(463118, 19)"
      ]
     },
     "execution_count": 9,
     "metadata": {},
     "output_type": "execute_result"
    }
   ],
   "source": [
    "# number of rows and columns\n",
    "feedgrains.shape"
   ]
  },
  {
   "cell_type": "code",
   "execution_count": 11,
   "id": "ce957118-ede2-4087-9e89-2e48aa6e4360",
   "metadata": {},
   "outputs": [
    {
     "name": "stdout",
     "output_type": "stream",
     "text": [
      "<class 'pandas.core.frame.DataFrame'>\n",
      "RangeIndex: 463118 entries, 0 to 463117\n",
      "Data columns (total 19 columns):\n",
      " #   Column                     Non-Null Count   Dtype  \n",
      "---  ------                     --------------   -----  \n",
      " 0   SC_Group_ID                463118 non-null  int64  \n",
      " 1   SC_Group_Desc              463118 non-null  object \n",
      " 2   SC_GroupCommod_ID          455269 non-null  float64\n",
      " 3   SC_GroupCommod_Desc        455269 non-null  object \n",
      " 4   SC_Geography_ID            463118 non-null  int64  \n",
      " 5   SortOrder                  463118 non-null  float64\n",
      " 6   SC_GeographyIndented_Desc  463118 non-null  object \n",
      " 7   SC_Commodity_ID            463118 non-null  int64  \n",
      " 8   SC_Commodity_Desc          463118 non-null  object \n",
      " 9   SC_Attribute_ID            463118 non-null  int64  \n",
      " 10  SC_Attribute_Desc          463118 non-null  object \n",
      " 11  SC_Unit_ID                 463118 non-null  int64  \n",
      " 12  SC_Unit_Desc               463118 non-null  object \n",
      " 13  Year_ID                    463118 non-null  int64  \n",
      " 14  SC_Frequency_ID            463118 non-null  int64  \n",
      " 15  SC_Frequency_Desc          463118 non-null  object \n",
      " 16  Timeperiod_ID              463118 non-null  int64  \n",
      " 17  Timeperiod_Desc            463118 non-null  object \n",
      " 18  Amount                     463118 non-null  float64\n",
      "dtypes: float64(3), int64(8), object(8)\n",
      "memory usage: 67.1+ MB\n"
     ]
    }
   ],
   "source": [
    "feedgrains.info()"
   ]
  },
  {
   "cell_type": "code",
   "execution_count": 13,
   "id": "eb129570-9b64-4493-82aa-504f29d5b8b6",
   "metadata": {},
   "outputs": [
    {
     "data": {
      "text/html": [
       "<div>\n",
       "<style scoped>\n",
       "    .dataframe tbody tr th:only-of-type {\n",
       "        vertical-align: middle;\n",
       "    }\n",
       "\n",
       "    .dataframe tbody tr th {\n",
       "        vertical-align: top;\n",
       "    }\n",
       "\n",
       "    .dataframe thead th {\n",
       "        text-align: right;\n",
       "    }\n",
       "</style>\n",
       "<table border=\"1\" class=\"dataframe\">\n",
       "  <thead>\n",
       "    <tr style=\"text-align: right;\">\n",
       "      <th></th>\n",
       "      <th>SC_Group_ID</th>\n",
       "      <th>SC_GroupCommod_ID</th>\n",
       "      <th>SC_Geography_ID</th>\n",
       "      <th>SortOrder</th>\n",
       "      <th>SC_Commodity_ID</th>\n",
       "      <th>SC_Attribute_ID</th>\n",
       "      <th>SC_Unit_ID</th>\n",
       "      <th>Year_ID</th>\n",
       "      <th>SC_Frequency_ID</th>\n",
       "      <th>Timeperiod_ID</th>\n",
       "      <th>Amount</th>\n",
       "    </tr>\n",
       "  </thead>\n",
       "  <tbody>\n",
       "    <tr>\n",
       "      <th>count</th>\n",
       "      <td>463118.000000</td>\n",
       "      <td>455269.000000</td>\n",
       "      <td>463118.000000</td>\n",
       "      <td>463118.000000</td>\n",
       "      <td>463118.000000</td>\n",
       "      <td>463118.000000</td>\n",
       "      <td>463118.000000</td>\n",
       "      <td>463118.000000</td>\n",
       "      <td>463118.000000</td>\n",
       "      <td>463118.000000</td>\n",
       "      <td>4.631180e+05</td>\n",
       "    </tr>\n",
       "    <tr>\n",
       "      <th>mean</th>\n",
       "      <td>2.836886</td>\n",
       "      <td>12.546000</td>\n",
       "      <td>88.719387</td>\n",
       "      <td>76.592939</td>\n",
       "      <td>34.930059</td>\n",
       "      <td>22.775070</td>\n",
       "      <td>7.674871</td>\n",
       "      <td>2002.218568</td>\n",
       "      <td>1.388320</td>\n",
       "      <td>15.897797</td>\n",
       "      <td>6.591591e+05</td>\n",
       "    </tr>\n",
       "    <tr>\n",
       "      <th>std</th>\n",
       "      <td>0.756613</td>\n",
       "      <td>3.138582</td>\n",
       "      <td>82.007304</td>\n",
       "      <td>78.348583</td>\n",
       "      <td>34.568156</td>\n",
       "      <td>6.034082</td>\n",
       "      <td>3.900039</td>\n",
       "      <td>13.226970</td>\n",
       "      <td>0.771797</td>\n",
       "      <td>26.082172</td>\n",
       "      <td>2.326463e+07</td>\n",
       "    </tr>\n",
       "    <tr>\n",
       "      <th>min</th>\n",
       "      <td>1.000000</td>\n",
       "      <td>8.000000</td>\n",
       "      <td>1.000000</td>\n",
       "      <td>0.020000</td>\n",
       "      <td>1.000000</td>\n",
       "      <td>1.000000</td>\n",
       "      <td>1.000000</td>\n",
       "      <td>1866.000000</td>\n",
       "      <td>1.000000</td>\n",
       "      <td>1.000000</td>\n",
       "      <td>-6.353320e+02</td>\n",
       "    </tr>\n",
       "    <tr>\n",
       "      <th>25%</th>\n",
       "      <td>3.000000</td>\n",
       "      <td>10.000000</td>\n",
       "      <td>30.000000</td>\n",
       "      <td>1.600000</td>\n",
       "      <td>2.000000</td>\n",
       "      <td>19.000000</td>\n",
       "      <td>7.000000</td>\n",
       "      <td>1995.000000</td>\n",
       "      <td>1.000000</td>\n",
       "      <td>4.000000</td>\n",
       "      <td>8.882811e-02</td>\n",
       "    </tr>\n",
       "    <tr>\n",
       "      <th>50%</th>\n",
       "      <td>3.000000</td>\n",
       "      <td>12.000000</td>\n",
       "      <td>51.000000</td>\n",
       "      <td>57.500000</td>\n",
       "      <td>14.000000</td>\n",
       "      <td>24.000000</td>\n",
       "      <td>7.000000</td>\n",
       "      <td>2004.000000</td>\n",
       "      <td>1.000000</td>\n",
       "      <td>8.000000</td>\n",
       "      <td>2.275850e+00</td>\n",
       "    </tr>\n",
       "    <tr>\n",
       "      <th>75%</th>\n",
       "      <td>3.000000</td>\n",
       "      <td>12.000000</td>\n",
       "      <td>141.000000</td>\n",
       "      <td>150.000000</td>\n",
       "      <td>76.000000</td>\n",
       "      <td>24.000000</td>\n",
       "      <td>7.000000</td>\n",
       "      <td>2012.000000</td>\n",
       "      <td>1.000000</td>\n",
       "      <td>12.000000</td>\n",
       "      <td>4.439208e+01</td>\n",
       "    </tr>\n",
       "    <tr>\n",
       "      <th>max</th>\n",
       "      <td>7.000000</td>\n",
       "      <td>20.000000</td>\n",
       "      <td>339.000000</td>\n",
       "      <td>285.000000</td>\n",
       "      <td>212.000000</td>\n",
       "      <td>61.000000</td>\n",
       "      <td>46.000000</td>\n",
       "      <td>2019.000000</td>\n",
       "      <td>3.000000</td>\n",
       "      <td>137.000000</td>\n",
       "      <td>2.597865e+09</td>\n",
       "    </tr>\n",
       "  </tbody>\n",
       "</table>\n",
       "</div>"
      ],
      "text/plain": [
       "         SC_Group_ID  SC_GroupCommod_ID  SC_Geography_ID      SortOrder  \\\n",
       "count  463118.000000      455269.000000    463118.000000  463118.000000   \n",
       "mean        2.836886          12.546000        88.719387      76.592939   \n",
       "std         0.756613           3.138582        82.007304      78.348583   \n",
       "min         1.000000           8.000000         1.000000       0.020000   \n",
       "25%         3.000000          10.000000        30.000000       1.600000   \n",
       "50%         3.000000          12.000000        51.000000      57.500000   \n",
       "75%         3.000000          12.000000       141.000000     150.000000   \n",
       "max         7.000000          20.000000       339.000000     285.000000   \n",
       "\n",
       "       SC_Commodity_ID  SC_Attribute_ID     SC_Unit_ID        Year_ID  \\\n",
       "count    463118.000000    463118.000000  463118.000000  463118.000000   \n",
       "mean         34.930059        22.775070       7.674871    2002.218568   \n",
       "std          34.568156         6.034082       3.900039      13.226970   \n",
       "min           1.000000         1.000000       1.000000    1866.000000   \n",
       "25%           2.000000        19.000000       7.000000    1995.000000   \n",
       "50%          14.000000        24.000000       7.000000    2004.000000   \n",
       "75%          76.000000        24.000000       7.000000    2012.000000   \n",
       "max         212.000000        61.000000      46.000000    2019.000000   \n",
       "\n",
       "       SC_Frequency_ID  Timeperiod_ID        Amount  \n",
       "count    463118.000000  463118.000000  4.631180e+05  \n",
       "mean          1.388320      15.897797  6.591591e+05  \n",
       "std           0.771797      26.082172  2.326463e+07  \n",
       "min           1.000000       1.000000 -6.353320e+02  \n",
       "25%           1.000000       4.000000  8.882811e-02  \n",
       "50%           1.000000       8.000000  2.275850e+00  \n",
       "75%           1.000000      12.000000  4.439208e+01  \n",
       "max           3.000000     137.000000  2.597865e+09  "
      ]
     },
     "execution_count": 13,
     "metadata": {},
     "output_type": "execute_result"
    }
   ],
   "source": [
    "feedgrains.describe()"
   ]
  },
  {
   "cell_type": "code",
   "execution_count": 15,
   "id": "61d6786d-ad34-48aa-976c-e2a775aeb19b",
   "metadata": {},
   "outputs": [],
   "source": [
    "#dropping irrelevant columns"
   ]
  },
  {
   "cell_type": "code",
   "execution_count": 17,
   "id": "505489a7-c317-4284-99f3-4f2bd38303be",
   "metadata": {},
   "outputs": [
    {
     "data": {
      "text/html": [
       "<div>\n",
       "<style scoped>\n",
       "    .dataframe tbody tr th:only-of-type {\n",
       "        vertical-align: middle;\n",
       "    }\n",
       "\n",
       "    .dataframe tbody tr th {\n",
       "        vertical-align: top;\n",
       "    }\n",
       "\n",
       "    .dataframe thead th {\n",
       "        text-align: right;\n",
       "    }\n",
       "</style>\n",
       "<table border=\"1\" class=\"dataframe\">\n",
       "  <thead>\n",
       "    <tr style=\"text-align: right;\">\n",
       "      <th></th>\n",
       "      <th>SC_GroupCommod_Desc</th>\n",
       "      <th>SC_GeographyIndented_Desc</th>\n",
       "      <th>SC_Unit_Desc</th>\n",
       "      <th>Year_ID</th>\n",
       "      <th>SC_Frequency_Desc</th>\n",
       "      <th>Timeperiod_Desc</th>\n",
       "      <th>Amount</th>\n",
       "    </tr>\n",
       "  </thead>\n",
       "  <tbody>\n",
       "    <tr>\n",
       "      <th>0</th>\n",
       "      <td>Oats</td>\n",
       "      <td>United States</td>\n",
       "      <td>Dollars per bushel</td>\n",
       "      <td>1948</td>\n",
       "      <td>Monthly</td>\n",
       "      <td>Aug</td>\n",
       "      <td>0.690000</td>\n",
       "    </tr>\n",
       "    <tr>\n",
       "      <th>1</th>\n",
       "      <td>Oats</td>\n",
       "      <td>United States</td>\n",
       "      <td>Dollars per bushel</td>\n",
       "      <td>1948</td>\n",
       "      <td>Monthly</td>\n",
       "      <td>Sep</td>\n",
       "      <td>0.690000</td>\n",
       "    </tr>\n",
       "    <tr>\n",
       "      <th>2</th>\n",
       "      <td>Oats</td>\n",
       "      <td>United States</td>\n",
       "      <td>Dollars per bushel</td>\n",
       "      <td>1948</td>\n",
       "      <td>Monthly</td>\n",
       "      <td>Oct</td>\n",
       "      <td>0.700000</td>\n",
       "    </tr>\n",
       "    <tr>\n",
       "      <th>3</th>\n",
       "      <td>Oats</td>\n",
       "      <td>United States</td>\n",
       "      <td>Dollars per bushel</td>\n",
       "      <td>1948</td>\n",
       "      <td>Monthly</td>\n",
       "      <td>Nov</td>\n",
       "      <td>0.760000</td>\n",
       "    </tr>\n",
       "    <tr>\n",
       "      <th>4</th>\n",
       "      <td>Oats</td>\n",
       "      <td>United States</td>\n",
       "      <td>Dollars per bushel</td>\n",
       "      <td>1948</td>\n",
       "      <td>Monthly</td>\n",
       "      <td>Dec</td>\n",
       "      <td>0.760000</td>\n",
       "    </tr>\n",
       "    <tr>\n",
       "      <th>...</th>\n",
       "      <td>...</td>\n",
       "      <td>...</td>\n",
       "      <td>...</td>\n",
       "      <td>...</td>\n",
       "      <td>...</td>\n",
       "      <td>...</td>\n",
       "      <td>...</td>\n",
       "    </tr>\n",
       "    <tr>\n",
       "      <th>463113</th>\n",
       "      <td>Corn</td>\n",
       "      <td>China (Taiwan)</td>\n",
       "      <td>1,000 metric tons</td>\n",
       "      <td>2019</td>\n",
       "      <td>Monthly</td>\n",
       "      <td>Jul</td>\n",
       "      <td>0.631104</td>\n",
       "    </tr>\n",
       "    <tr>\n",
       "      <th>463114</th>\n",
       "      <td>Corn</td>\n",
       "      <td>China (Taiwan)</td>\n",
       "      <td>1,000 metric tons</td>\n",
       "      <td>1991</td>\n",
       "      <td>Annual</td>\n",
       "      <td>MY Oct-Sep</td>\n",
       "      <td>10.000000</td>\n",
       "    </tr>\n",
       "    <tr>\n",
       "      <th>463115</th>\n",
       "      <td>Corn</td>\n",
       "      <td>China (Taiwan)</td>\n",
       "      <td>1,000 metric tons</td>\n",
       "      <td>1992</td>\n",
       "      <td>Annual</td>\n",
       "      <td>MY Oct-Sep</td>\n",
       "      <td>17.000000</td>\n",
       "    </tr>\n",
       "    <tr>\n",
       "      <th>463116</th>\n",
       "      <td>Corn</td>\n",
       "      <td>China (Taiwan)</td>\n",
       "      <td>1,000 metric tons</td>\n",
       "      <td>2018</td>\n",
       "      <td>Annual</td>\n",
       "      <td>MY Sep-Aug</td>\n",
       "      <td>0.000306</td>\n",
       "    </tr>\n",
       "    <tr>\n",
       "      <th>463117</th>\n",
       "      <td>Corn</td>\n",
       "      <td>China (Taiwan)</td>\n",
       "      <td>1,000 metric tons</td>\n",
       "      <td>2019</td>\n",
       "      <td>Monthly</td>\n",
       "      <td>May</td>\n",
       "      <td>0.000306</td>\n",
       "    </tr>\n",
       "  </tbody>\n",
       "</table>\n",
       "<p>463118 rows × 7 columns</p>\n",
       "</div>"
      ],
      "text/plain": [
       "       SC_GroupCommod_Desc SC_GeographyIndented_Desc        SC_Unit_Desc  \\\n",
       "0                     Oats             United States  Dollars per bushel   \n",
       "1                     Oats             United States  Dollars per bushel   \n",
       "2                     Oats             United States  Dollars per bushel   \n",
       "3                     Oats             United States  Dollars per bushel   \n",
       "4                     Oats             United States  Dollars per bushel   \n",
       "...                    ...                       ...                 ...   \n",
       "463113                Corn            China (Taiwan)   1,000 metric tons   \n",
       "463114                Corn            China (Taiwan)   1,000 metric tons   \n",
       "463115                Corn            China (Taiwan)   1,000 metric tons   \n",
       "463116                Corn            China (Taiwan)   1,000 metric tons   \n",
       "463117                Corn            China (Taiwan)   1,000 metric tons   \n",
       "\n",
       "        Year_ID SC_Frequency_Desc Timeperiod_Desc     Amount  \n",
       "0          1948           Monthly             Aug   0.690000  \n",
       "1          1948           Monthly             Sep   0.690000  \n",
       "2          1948           Monthly             Oct   0.700000  \n",
       "3          1948           Monthly             Nov   0.760000  \n",
       "4          1948           Monthly             Dec   0.760000  \n",
       "...         ...               ...             ...        ...  \n",
       "463113     2019           Monthly             Jul   0.631104  \n",
       "463114     1991            Annual      MY Oct-Sep  10.000000  \n",
       "463115     1992            Annual      MY Oct-Sep  17.000000  \n",
       "463116     2018            Annual      MY Sep-Aug   0.000306  \n",
       "463117     2019           Monthly             May   0.000306  \n",
       "\n",
       "[463118 rows x 7 columns]"
      ]
     },
     "execution_count": 17,
     "metadata": {},
     "output_type": "execute_result"
    }
   ],
   "source": [
    "feedgrains=feedgrains.drop(columns=[\"SC_Group_ID\",\"SC_Group_Desc\",\"SC_GroupCommod_ID\",\"SC_Geography_ID\",\"SortOrder\",\"SC_Commodity_ID\",\"SC_Commodity_Desc\",\"SC_Attribute_ID\",\"SC_Attribute_Desc\",\"SC_Unit_ID\",\"SC_Frequency_ID\",\"Timeperiod_ID\"])\n",
    "feedgrains"
   ]
  },
  {
   "cell_type": "code",
   "execution_count": 19,
   "id": "7f14d49b-51c3-4034-88d2-abbdae7109ac",
   "metadata": {},
   "outputs": [],
   "source": [
    "#selecting only specific feedgrains"
   ]
  },
  {
   "cell_type": "code",
   "execution_count": 21,
   "id": "af251633-6d4c-4d55-84f1-f622c62ed576",
   "metadata": {},
   "outputs": [],
   "source": [
    "# Define the list of specific feedgrains\n",
    "specific_feedgrains = ['Oats', 'Sorghum', 'Barley', 'Corn', 'Byproduct feeds']\n",
    "# Filter the dataset to include only rows with the specified feedgrains\n",
    "feedgrains= feedgrains[feedgrains['SC_GroupCommod_Desc'].isin(specific_feedgrains)]"
   ]
  },
  {
   "cell_type": "code",
   "execution_count": 23,
   "id": "2a7f52a7-28fd-4353-ab3d-82d15dbf75e5",
   "metadata": {},
   "outputs": [],
   "source": [
    "#renaming the location"
   ]
  },
  {
   "cell_type": "code",
   "execution_count": 25,
   "id": "131cb668-bbce-405b-995d-b4ded1190fc9",
   "metadata": {},
   "outputs": [
    {
     "name": "stdout",
     "output_type": "stream",
     "text": [
      "['United States' 'U.S. - Gulf ports, LA' 'U.S. - Minneapolis, MN'\n",
      " 'U.S. - St Louis, MO' 'U.S. - Omaha, NE' 'U.S. - Chicago, IL'\n",
      " 'U.S. - Kansas City, MO' 'U.S. - Toledo, OH'\n",
      " 'U.S. - Plainview to Muleshoe, TX' 'U.S. - Portland, OR'\n",
      " 'U.S. - Memphis, TN' 'U.S. - Midwest' 'World' '  World less U.S.'\n",
      " 'U.S. - Fort Worth, TX' 'U.S. - New York, NY' 'U.S. - AR'\n",
      " 'U.S. - Central IL' '  Latin America' '      Central America'\n",
      " '      Caribbean' '      South America' '        European Union-15'\n",
      " '    Asia and Middle East' '      Middle East' '        South Asia'\n",
      " '        Southeast Asia' '    Oceania' '    Africa' '      North Africa'\n",
      " '      Sub-Saharan Africa' 'Western Hemisphere' 'North America'\n",
      " '    Europe/Eurasia' '      European Union-25' '        Acceding-10'\n",
      " '      Other Europe' '      Former Soviet Union-12' '      Asia'\n",
      " '        East Asia' 'Canada' '        Greenland' '        Mexico'\n",
      " '        Guatemala' '        Belize' '        El Salvador'\n",
      " '        Honduras' '        Nicaragua' '        Costa Rica'\n",
      " '        Panama' '        Cuba' '        Bermuda' '        Bahamas'\n",
      " '        Jamaica' '        Turks And Caicos Islands'\n",
      " '        Cayman Islands' '        Dominican Republic' '        Haiti'\n",
      " '        Anguilla' '        British Virgin Islands'\n",
      " '        St. Kitts-Nevis' '        Antigua & Barbuda'\n",
      " '        Montserrat' '        Dominica' '        St. Lucia'\n",
      " '        Barbados' '        St. Vincent And The Grenadine'\n",
      " '        Grenada' '        Trinidad And Tobago'\n",
      " '        Netherlands Antilles' '        Aruba' '        Colombia'\n",
      " '        Guadeloupe' '        Martinique' '        Venezuela'\n",
      " '        Suriname' '        Guyana' '        French Guiana'\n",
      " '        Ecuador' '        Peru' '        Bolivia' '        Chile'\n",
      " '        Brazil' '        Paraguay' '        Argentina' '        Uruguay'\n",
      " '          Iceland' '          Sweden' '          Norway'\n",
      " '          Svalbard And Jan Mayen Island' '          Finland'\n",
      " '          Denmark' '          United Kingdom' '          Faroe Islands'\n",
      " '          Ireland' '          Netherlands' '          Belgium'\n",
      " '          Luxembourg' '          France'\n",
      " '          Germany, Fed. Republic; United, Begins 1' '          Monaco'\n",
      " '          Former Czechoslovakia, Ends 12/1992'\n",
      " '          Czech Republic'\n",
      " '          German Democratic Republic, Ends 9/1990' '          Hungary'\n",
      " '          Austria' '          Liechtenstein' '          Switzerland'\n",
      " '          Slovakia' '          Estonia' '          Latvia'\n",
      " '          Lithuania' '          Poland'\n",
      " '          Russian Federation, Begins 2/1992' '          Belarus'\n",
      " '          Ukraine' '          Former Ussr, Begins 1/1989 & Ends 1/1993'\n",
      " '          Armenia' '          Azerbaijan' '          Georgia'\n",
      " '          Kazakhstan' '          Kyrgyzstan' '          Moldova'\n",
      " '          Spain' '          Portugal' '          Tajikistan'\n",
      " '          Turkmenistan' '          Uzbekistan'\n",
      " '          Malta And Gozo' '          Vatican City' '          Italy'\n",
      " '          Former Yugoslavia, Ends 5/1992' '          Croatia'\n",
      " '          Greece' '          Slovenia' '          Bosnia-Hercegovina'\n",
      " '          Macedonia (Skopje)' '          Serbia and Montenegro'\n",
      " '          Albania' '          Bulgaria' '        Turkey'\n",
      " '          Romania' '          Cyprus' '        Lebanon' '        Syria'\n",
      " '        Iraq' '        Iran' '        Israel' '        Kuwait'\n",
      " '        West Bank' '        Jordan' '        Saudi Arabia'\n",
      " '        United Arab Emirates' '        Qatar'\n",
      " '        Yemen (Sana), Ends 9/1990 & United Begin' '        Oman'\n",
      " '          India' '        Bahrain' '          Afghanistan'\n",
      " '          Nepal' '          Bangladesh' '          Pakistan'\n",
      " '          Sri Lanka' '          Myanmar (Burma)' '          Thailand'\n",
      " '          Vietnam' '          Malaysia' '          Laos'\n",
      " '          Cambodia' '          Singapore' '          Indonesia'\n",
      " '          Philippines' '          Macao (Macau)'\n",
      " '          China (Mainland)' '          Brunei' '          Mongolia'\n",
      " '          Bhutan' '          North Korea' '          South Korea'\n",
      " '          Hong Kong' '          China (Taiwan)' '          Japan'\n",
      " '        Australia (No Islands)' '          Kosovo'\n",
      " '        Papua New Guinea'\n",
      " '        New Zealand, No Islands (=Old Code 6140)'\n",
      " '        Norfolk Island' '        Cocos (Keeling) Islands'\n",
      " '        Christmas Island(Indian Ocean)' '        Cook Islands'\n",
      " '        Tokelau Islands' '        Niue' '        Samoa'\n",
      " '        Solomon Islands' '        Kiribati' '        New Caledonia'\n",
      " '        French Polynesia' '        Marshall Islands'\n",
      " '        Micronesia, Federated States' '        Palau' '        Fiji'\n",
      " '        Tonga' '        Morocco' '        Algeria' '        Tunisia'\n",
      " '        Libya' '        Egypt' '        Senegal' '        Ghana'\n",
      " '        Mali' '        Equatorial Guinea' '        Mauritania'\n",
      " '        The Gambia' '        Niger' '        Togo' '        Guinea'\n",
      " '        Sierra Leone' '        Ivory Coast' '        Nigeria'\n",
      " '        Sudan' '        Cameroon' '        Central African Republic'\n",
      " '        Gabon' '        Chad' '        St Helena' '        Burkina Faso'\n",
      " '        Benin' '        Angola'\n",
      " '        Ethiopia, United Ends 6/1993 & New Begin' '        Djibouti'\n",
      " '        Uganda' '        Congo(Brazzville)' '        Guinea-Bissau'\n",
      " '        Cape Verde Islands' '        Sao Tome And Principe'\n",
      " '        Liberia' '        Kenya' '        Congo(Kinshasa)'\n",
      " '        Seychelles' '        Tanzania' '        Burundi'\n",
      " '        Rwanda' '        Mauritius' '        Mozambique'\n",
      " '        Somalia' '        Madagascar (Malagasy)'\n",
      " '        Republic Of South Africa' '        Namibia'\n",
      " '        Eritrea, Begins 7/1993' '        Botswana' '        Malawi'\n",
      " '        Zambia' '        Lesotho' '        Swaziland' '        Zimbabwe'\n",
      " '    Unidentified Country' '        Mayotte' '      European Union-27'\n",
      " '        Comoros' '        Reunion (Island, French)'\n",
      " '        Western Sahara' '  Caribbean Basin (CBERA)' '          Serbia'\n",
      " '          Montenegro' '        Sint Maarten' '        Curacao'\n",
      " '       Yemen United' '        South Sudan']\n"
     ]
    },
    {
     "name": "stderr",
     "output_type": "stream",
     "text": [
      "C:\\Users\\Laxmi Computers\\AppData\\Local\\Temp\\ipykernel_6156\\3985421784.py:3: SettingWithCopyWarning: \n",
      "A value is trying to be set on a copy of a slice from a DataFrame.\n",
      "Try using .loc[row_indexer,col_indexer] = value instead\n",
      "\n",
      "See the caveats in the documentation: https://pandas.pydata.org/pandas-docs/stable/user_guide/indexing.html#returning-a-view-versus-a-copy\n",
      "  feedgrains['SC_GeographyIndented_Desc'] = feedgrains['SC_GeographyIndented_Desc'].replace(rename_location)\n"
     ]
    }
   ],
   "source": [
    "rename_location={'        Canada':'Canada','    Western Hemisphere':'Western Hemisphere','      North America':'North America'}\n",
    "# Rename specific values in the column\n",
    "feedgrains['SC_GeographyIndented_Desc'] = feedgrains['SC_GeographyIndented_Desc'].replace(rename_location)\n",
    "\n",
    "# Check the updated column\n",
    "print(feedgrains['SC_GeographyIndented_Desc'].unique())"
   ]
  },
  {
   "cell_type": "code",
   "execution_count": 27,
   "id": "5f503112-8b7d-43b3-a228-9092480fdde1",
   "metadata": {},
   "outputs": [],
   "source": [
    "#selecting only specific locations"
   ]
  },
  {
   "cell_type": "code",
   "execution_count": 29,
   "id": "45a79c93-5771-471e-87dd-9520c70205f5",
   "metadata": {},
   "outputs": [],
   "source": [
    "# Define the list of specific locations\n",
    "specific_locations = ['United States', 'World','Canada','North America','Western Hemisphere']\n",
    "# Filter the dataset to include only rows with the specified locations\n",
    "feedgrains= feedgrains[feedgrains['SC_GeographyIndented_Desc'].isin(specific_locations)]"
   ]
  },
  {
   "cell_type": "code",
   "execution_count": 31,
   "id": "33f947b9-ea3f-4128-9118-8bb7e4e11fea",
   "metadata": {},
   "outputs": [],
   "source": [
    "#selecting 'monthly' and 'Annual' from SC_Frequency_Desc"
   ]
  },
  {
   "cell_type": "code",
   "execution_count": 33,
   "id": "bc7ffefc-3053-40b8-be64-487e3e869dec",
   "metadata": {},
   "outputs": [],
   "source": [
    "# Define the list of specific frequency\n",
    "specific_frequency = ['Monthly','Annual']\n",
    "# Filter the dataset to include only rows with the specified frequency\n",
    "feedgrains= feedgrains[feedgrains['SC_Frequency_Desc'].isin(specific_frequency)]"
   ]
  },
  {
   "cell_type": "code",
   "execution_count": 35,
   "id": "238e4369-1b7d-45b6-a7c8-a5e15a66ef65",
   "metadata": {},
   "outputs": [
    {
     "data": {
      "text/html": [
       "<div>\n",
       "<style scoped>\n",
       "    .dataframe tbody tr th:only-of-type {\n",
       "        vertical-align: middle;\n",
       "    }\n",
       "\n",
       "    .dataframe tbody tr th {\n",
       "        vertical-align: top;\n",
       "    }\n",
       "\n",
       "    .dataframe thead th {\n",
       "        text-align: right;\n",
       "    }\n",
       "</style>\n",
       "<table border=\"1\" class=\"dataframe\">\n",
       "  <thead>\n",
       "    <tr style=\"text-align: right;\">\n",
       "      <th></th>\n",
       "      <th>SC_GroupCommod_Desc</th>\n",
       "      <th>SC_GeographyIndented_Desc</th>\n",
       "      <th>SC_Unit_Desc</th>\n",
       "      <th>Year_ID</th>\n",
       "      <th>SC_Frequency_Desc</th>\n",
       "      <th>Timeperiod_Desc</th>\n",
       "      <th>Amount</th>\n",
       "    </tr>\n",
       "  </thead>\n",
       "  <tbody>\n",
       "    <tr>\n",
       "      <th>0</th>\n",
       "      <td>Oats</td>\n",
       "      <td>United States</td>\n",
       "      <td>Dollars per bushel</td>\n",
       "      <td>1948</td>\n",
       "      <td>Monthly</td>\n",
       "      <td>Aug</td>\n",
       "      <td>0.690</td>\n",
       "    </tr>\n",
       "    <tr>\n",
       "      <th>1</th>\n",
       "      <td>Oats</td>\n",
       "      <td>United States</td>\n",
       "      <td>Dollars per bushel</td>\n",
       "      <td>1948</td>\n",
       "      <td>Monthly</td>\n",
       "      <td>Sep</td>\n",
       "      <td>0.690</td>\n",
       "    </tr>\n",
       "    <tr>\n",
       "      <th>2</th>\n",
       "      <td>Oats</td>\n",
       "      <td>United States</td>\n",
       "      <td>Dollars per bushel</td>\n",
       "      <td>1948</td>\n",
       "      <td>Monthly</td>\n",
       "      <td>Oct</td>\n",
       "      <td>0.700</td>\n",
       "    </tr>\n",
       "    <tr>\n",
       "      <th>3</th>\n",
       "      <td>Oats</td>\n",
       "      <td>United States</td>\n",
       "      <td>Dollars per bushel</td>\n",
       "      <td>1948</td>\n",
       "      <td>Monthly</td>\n",
       "      <td>Nov</td>\n",
       "      <td>0.760</td>\n",
       "    </tr>\n",
       "    <tr>\n",
       "      <th>4</th>\n",
       "      <td>Oats</td>\n",
       "      <td>United States</td>\n",
       "      <td>Dollars per bushel</td>\n",
       "      <td>1948</td>\n",
       "      <td>Monthly</td>\n",
       "      <td>Dec</td>\n",
       "      <td>0.760</td>\n",
       "    </tr>\n",
       "    <tr>\n",
       "      <th>...</th>\n",
       "      <td>...</td>\n",
       "      <td>...</td>\n",
       "      <td>...</td>\n",
       "      <td>...</td>\n",
       "      <td>...</td>\n",
       "      <td>...</td>\n",
       "      <td>...</td>\n",
       "    </tr>\n",
       "    <tr>\n",
       "      <th>406673</th>\n",
       "      <td>Oats</td>\n",
       "      <td>United States</td>\n",
       "      <td>Dollars per bushel</td>\n",
       "      <td>1948</td>\n",
       "      <td>Monthly</td>\n",
       "      <td>Jun</td>\n",
       "      <td>1.070</td>\n",
       "    </tr>\n",
       "    <tr>\n",
       "      <th>406674</th>\n",
       "      <td>Oats</td>\n",
       "      <td>United States</td>\n",
       "      <td>Dollars per bushel</td>\n",
       "      <td>1948</td>\n",
       "      <td>Monthly</td>\n",
       "      <td>Jul</td>\n",
       "      <td>0.870</td>\n",
       "    </tr>\n",
       "    <tr>\n",
       "      <th>461892</th>\n",
       "      <td>Oats</td>\n",
       "      <td>United States</td>\n",
       "      <td>Million acres</td>\n",
       "      <td>2017</td>\n",
       "      <td>Annual</td>\n",
       "      <td>Commodity Market Year</td>\n",
       "      <td>0.804</td>\n",
       "    </tr>\n",
       "    <tr>\n",
       "      <th>461893</th>\n",
       "      <td>Oats</td>\n",
       "      <td>United States</td>\n",
       "      <td>Million acres</td>\n",
       "      <td>2018</td>\n",
       "      <td>Annual</td>\n",
       "      <td>Commodity Market Year</td>\n",
       "      <td>0.865</td>\n",
       "    </tr>\n",
       "    <tr>\n",
       "      <th>461894</th>\n",
       "      <td>Oats</td>\n",
       "      <td>United States</td>\n",
       "      <td>Million acres</td>\n",
       "      <td>2019</td>\n",
       "      <td>Annual</td>\n",
       "      <td>Commodity Market Year</td>\n",
       "      <td>0.909</td>\n",
       "    </tr>\n",
       "  </tbody>\n",
       "</table>\n",
       "<p>66374 rows × 7 columns</p>\n",
       "</div>"
      ],
      "text/plain": [
       "       SC_GroupCommod_Desc SC_GeographyIndented_Desc        SC_Unit_Desc  \\\n",
       "0                     Oats             United States  Dollars per bushel   \n",
       "1                     Oats             United States  Dollars per bushel   \n",
       "2                     Oats             United States  Dollars per bushel   \n",
       "3                     Oats             United States  Dollars per bushel   \n",
       "4                     Oats             United States  Dollars per bushel   \n",
       "...                    ...                       ...                 ...   \n",
       "406673                Oats             United States  Dollars per bushel   \n",
       "406674                Oats             United States  Dollars per bushel   \n",
       "461892                Oats             United States       Million acres   \n",
       "461893                Oats             United States       Million acres   \n",
       "461894                Oats             United States       Million acres   \n",
       "\n",
       "        Year_ID SC_Frequency_Desc        Timeperiod_Desc  Amount  \n",
       "0          1948           Monthly                    Aug   0.690  \n",
       "1          1948           Monthly                    Sep   0.690  \n",
       "2          1948           Monthly                    Oct   0.700  \n",
       "3          1948           Monthly                    Nov   0.760  \n",
       "4          1948           Monthly                    Dec   0.760  \n",
       "...         ...               ...                    ...     ...  \n",
       "406673     1948           Monthly                    Jun   1.070  \n",
       "406674     1948           Monthly                    Jul   0.870  \n",
       "461892     2017            Annual  Commodity Market Year   0.804  \n",
       "461893     2018            Annual  Commodity Market Year   0.865  \n",
       "461894     2019            Annual  Commodity Market Year   0.909  \n",
       "\n",
       "[66374 rows x 7 columns]"
      ]
     },
     "execution_count": 35,
     "metadata": {},
     "output_type": "execute_result"
    }
   ],
   "source": [
    "feedgrains"
   ]
  },
  {
   "cell_type": "code",
   "execution_count": 37,
   "id": "ca7319d1-4d16-4ddd-b4b9-c6a9f1ac223a",
   "metadata": {},
   "outputs": [
    {
     "data": {
      "text/plain": [
       "SC_GroupCommod_Desc\n",
       "Barley             21770\n",
       "Corn               19102\n",
       "Oats               14531\n",
       "Sorghum             6441\n",
       "Byproduct feeds     4530\n",
       "Name: count, dtype: int64"
      ]
     },
     "execution_count": 37,
     "metadata": {},
     "output_type": "execute_result"
    }
   ],
   "source": [
    "feedgrains.SC_GroupCommod_Desc.value_counts()\t"
   ]
  },
  {
   "cell_type": "code",
   "execution_count": 39,
   "id": "ac79d989-e0d8-4196-bac0-67aafebbb688",
   "metadata": {},
   "outputs": [
    {
     "data": {
      "text/plain": [
       "SC_GeographyIndented_Desc\n",
       "World                 19612\n",
       "United States         14412\n",
       "Western Hemisphere    10904\n",
       "North America         10779\n",
       "Canada                10667\n",
       "Name: count, dtype: int64"
      ]
     },
     "execution_count": 39,
     "metadata": {},
     "output_type": "execute_result"
    }
   ],
   "source": [
    "feedgrains.SC_GeographyIndented_Desc.value_counts()"
   ]
  },
  {
   "cell_type": "code",
   "execution_count": 41,
   "id": "cf4b95ff-359a-4be3-b021-786e7510d0fc",
   "metadata": {},
   "outputs": [
    {
     "data": {
      "text/plain": [
       "SC_Unit_Desc\n",
       "1,000 metric tons     41982\n",
       "Bushels                7808\n",
       "Dollars per bushel     6899\n",
       "Million bushels        3102\n",
       "1,000 liters           3062\n",
       "Dollars per cwt        1248\n",
       "Million acres           926\n",
       "Gallons                 794\n",
       "Bushels per acre        553\n",
       "Name: count, dtype: int64"
      ]
     },
     "execution_count": 41,
     "metadata": {},
     "output_type": "execute_result"
    }
   ],
   "source": [
    "feedgrains.SC_Unit_Desc.value_counts()"
   ]
  },
  {
   "cell_type": "code",
   "execution_count": 43,
   "id": "07570f87-37f7-43f3-b591-bf516a018795",
   "metadata": {},
   "outputs": [
    {
     "data": {
      "text/plain": [
       "array(['Dollars per bushel', 'Million acres', 'Bushels per acre',\n",
       "       'Dollars per cwt', 'Million bushels', '1,000 metric tons',\n",
       "       'Bushels', 'Gallons', '1,000 liters'], dtype=object)"
      ]
     },
     "execution_count": 43,
     "metadata": {},
     "output_type": "execute_result"
    }
   ],
   "source": [
    "feedgrains.SC_Unit_Desc.unique()"
   ]
  },
  {
   "cell_type": "code",
   "execution_count": 45,
   "id": "cc243060-de51-4fe7-951a-be88023abf87",
   "metadata": {},
   "outputs": [],
   "source": [
    "# removing irrelevant units"
   ]
  },
  {
   "cell_type": "code",
   "execution_count": 47,
   "id": "ff86cef3-67bb-4c5c-8520-4264aecfa179",
   "metadata": {},
   "outputs": [
    {
     "name": "stdout",
     "output_type": "stream",
     "text": [
      "Original dataset shape: (66374, 7)\n",
      "Filtered dataset shape: (65027, 7)\n",
      "SC_Unit_Desc\n",
      "1,000 metric tons     41982\n",
      "Bushels                7808\n",
      "Dollars per bushel     6899\n",
      "Million bushels        3102\n",
      "1,000 liters           3062\n",
      "Dollars per cwt        1248\n",
      "Million acres           926\n",
      "Name: count, dtype: int64\n"
     ]
    }
   ],
   "source": [
    "irrelevant_units = ['Gallons', 'Bushels per acre']\n",
    "# Filter out rows with irrelevant units\n",
    "new_feed= feedgrains[~feedgrains['SC_Unit_Desc'].isin(irrelevant_units)]\n",
    "\n",
    "# Check the shape and preview the data\n",
    "print(\"Original dataset shape:\", feedgrains.shape)\n",
    "print(\"Filtered dataset shape:\", new_feed.shape)\n",
    "print(new_feed['SC_Unit_Desc'].value_counts())"
   ]
  },
  {
   "cell_type": "code",
   "execution_count": 49,
   "id": "2f998251-96d5-409d-a45a-29cf2b43ca25",
   "metadata": {},
   "outputs": [
    {
     "data": {
      "text/html": [
       "<div>\n",
       "<style scoped>\n",
       "    .dataframe tbody tr th:only-of-type {\n",
       "        vertical-align: middle;\n",
       "    }\n",
       "\n",
       "    .dataframe tbody tr th {\n",
       "        vertical-align: top;\n",
       "    }\n",
       "\n",
       "    .dataframe thead th {\n",
       "        text-align: right;\n",
       "    }\n",
       "</style>\n",
       "<table border=\"1\" class=\"dataframe\">\n",
       "  <thead>\n",
       "    <tr style=\"text-align: right;\">\n",
       "      <th></th>\n",
       "      <th>SC_GroupCommod_Desc</th>\n",
       "      <th>SC_GeographyIndented_Desc</th>\n",
       "      <th>SC_Unit_Desc</th>\n",
       "      <th>Year_ID</th>\n",
       "      <th>SC_Frequency_Desc</th>\n",
       "      <th>Timeperiod_Desc</th>\n",
       "      <th>Amount</th>\n",
       "    </tr>\n",
       "  </thead>\n",
       "  <tbody>\n",
       "    <tr>\n",
       "      <th>0</th>\n",
       "      <td>Oats</td>\n",
       "      <td>United States</td>\n",
       "      <td>Dollars per bushel</td>\n",
       "      <td>1948</td>\n",
       "      <td>Monthly</td>\n",
       "      <td>Aug</td>\n",
       "      <td>0.690</td>\n",
       "    </tr>\n",
       "    <tr>\n",
       "      <th>1</th>\n",
       "      <td>Oats</td>\n",
       "      <td>United States</td>\n",
       "      <td>Dollars per bushel</td>\n",
       "      <td>1948</td>\n",
       "      <td>Monthly</td>\n",
       "      <td>Sep</td>\n",
       "      <td>0.690</td>\n",
       "    </tr>\n",
       "    <tr>\n",
       "      <th>2</th>\n",
       "      <td>Oats</td>\n",
       "      <td>United States</td>\n",
       "      <td>Dollars per bushel</td>\n",
       "      <td>1948</td>\n",
       "      <td>Monthly</td>\n",
       "      <td>Oct</td>\n",
       "      <td>0.700</td>\n",
       "    </tr>\n",
       "    <tr>\n",
       "      <th>3</th>\n",
       "      <td>Oats</td>\n",
       "      <td>United States</td>\n",
       "      <td>Dollars per bushel</td>\n",
       "      <td>1948</td>\n",
       "      <td>Monthly</td>\n",
       "      <td>Nov</td>\n",
       "      <td>0.760</td>\n",
       "    </tr>\n",
       "    <tr>\n",
       "      <th>4</th>\n",
       "      <td>Oats</td>\n",
       "      <td>United States</td>\n",
       "      <td>Dollars per bushel</td>\n",
       "      <td>1948</td>\n",
       "      <td>Monthly</td>\n",
       "      <td>Dec</td>\n",
       "      <td>0.760</td>\n",
       "    </tr>\n",
       "    <tr>\n",
       "      <th>...</th>\n",
       "      <td>...</td>\n",
       "      <td>...</td>\n",
       "      <td>...</td>\n",
       "      <td>...</td>\n",
       "      <td>...</td>\n",
       "      <td>...</td>\n",
       "      <td>...</td>\n",
       "    </tr>\n",
       "    <tr>\n",
       "      <th>406673</th>\n",
       "      <td>Oats</td>\n",
       "      <td>United States</td>\n",
       "      <td>Dollars per bushel</td>\n",
       "      <td>1948</td>\n",
       "      <td>Monthly</td>\n",
       "      <td>Jun</td>\n",
       "      <td>1.070</td>\n",
       "    </tr>\n",
       "    <tr>\n",
       "      <th>406674</th>\n",
       "      <td>Oats</td>\n",
       "      <td>United States</td>\n",
       "      <td>Dollars per bushel</td>\n",
       "      <td>1948</td>\n",
       "      <td>Monthly</td>\n",
       "      <td>Jul</td>\n",
       "      <td>0.870</td>\n",
       "    </tr>\n",
       "    <tr>\n",
       "      <th>461892</th>\n",
       "      <td>Oats</td>\n",
       "      <td>United States</td>\n",
       "      <td>Million acres</td>\n",
       "      <td>2017</td>\n",
       "      <td>Annual</td>\n",
       "      <td>Commodity Market Year</td>\n",
       "      <td>0.804</td>\n",
       "    </tr>\n",
       "    <tr>\n",
       "      <th>461893</th>\n",
       "      <td>Oats</td>\n",
       "      <td>United States</td>\n",
       "      <td>Million acres</td>\n",
       "      <td>2018</td>\n",
       "      <td>Annual</td>\n",
       "      <td>Commodity Market Year</td>\n",
       "      <td>0.865</td>\n",
       "    </tr>\n",
       "    <tr>\n",
       "      <th>461894</th>\n",
       "      <td>Oats</td>\n",
       "      <td>United States</td>\n",
       "      <td>Million acres</td>\n",
       "      <td>2019</td>\n",
       "      <td>Annual</td>\n",
       "      <td>Commodity Market Year</td>\n",
       "      <td>0.909</td>\n",
       "    </tr>\n",
       "  </tbody>\n",
       "</table>\n",
       "<p>65027 rows × 7 columns</p>\n",
       "</div>"
      ],
      "text/plain": [
       "       SC_GroupCommod_Desc SC_GeographyIndented_Desc        SC_Unit_Desc  \\\n",
       "0                     Oats             United States  Dollars per bushel   \n",
       "1                     Oats             United States  Dollars per bushel   \n",
       "2                     Oats             United States  Dollars per bushel   \n",
       "3                     Oats             United States  Dollars per bushel   \n",
       "4                     Oats             United States  Dollars per bushel   \n",
       "...                    ...                       ...                 ...   \n",
       "406673                Oats             United States  Dollars per bushel   \n",
       "406674                Oats             United States  Dollars per bushel   \n",
       "461892                Oats             United States       Million acres   \n",
       "461893                Oats             United States       Million acres   \n",
       "461894                Oats             United States       Million acres   \n",
       "\n",
       "        Year_ID SC_Frequency_Desc        Timeperiod_Desc  Amount  \n",
       "0          1948           Monthly                    Aug   0.690  \n",
       "1          1948           Monthly                    Sep   0.690  \n",
       "2          1948           Monthly                    Oct   0.700  \n",
       "3          1948           Monthly                    Nov   0.760  \n",
       "4          1948           Monthly                    Dec   0.760  \n",
       "...         ...               ...                    ...     ...  \n",
       "406673     1948           Monthly                    Jun   1.070  \n",
       "406674     1948           Monthly                    Jul   0.870  \n",
       "461892     2017            Annual  Commodity Market Year   0.804  \n",
       "461893     2018            Annual  Commodity Market Year   0.865  \n",
       "461894     2019            Annual  Commodity Market Year   0.909  \n",
       "\n",
       "[65027 rows x 7 columns]"
      ]
     },
     "execution_count": 49,
     "metadata": {},
     "output_type": "execute_result"
    }
   ],
   "source": [
    "new_feed"
   ]
  },
  {
   "cell_type": "code",
   "execution_count": 51,
   "id": "e2da779a-fffe-47de-b5d5-fa1e6f1302a9",
   "metadata": {},
   "outputs": [
    {
     "data": {
      "text/plain": [
       "array(['Aug', 'Sep', 'Oct', 'Nov', 'Dec', 'Commodity Market Year', 'Jan',\n",
       "       'Feb', 'Mar', 'Apr', 'May', 'Jun', 'Jul', 'MY Sep-Aug',\n",
       "       'MY Jun-May', 'MY Oct-Sep', 'MY Aug-Jul', 'MMY AT'], dtype=object)"
      ]
     },
     "execution_count": 51,
     "metadata": {},
     "output_type": "execute_result"
    }
   ],
   "source": [
    "new_feed.Timeperiod_Desc.unique()"
   ]
  },
  {
   "cell_type": "code",
   "execution_count": 53,
   "id": "092c385b-d957-494b-a614-272993e393d2",
   "metadata": {},
   "outputs": [
    {
     "data": {
      "text/plain": [
       "Timeperiod_Desc\n",
       "Apr                      4711\n",
       "May                      4703\n",
       "Jun                      4686\n",
       "Mar                      4675\n",
       "Jul                      4662\n",
       "Jan                      4657\n",
       "Feb                      4655\n",
       "Aug                      4532\n",
       "Oct                      4529\n",
       "Sep                      4520\n",
       "Dec                      4513\n",
       "Nov                      4509\n",
       "MY Jun-May               3465\n",
       "MY Sep-Aug               3262\n",
       "Commodity Market Year    2333\n",
       "MY Oct-Sep                541\n",
       "MMY AT                     43\n",
       "MY Aug-Jul                 31\n",
       "Name: count, dtype: int64"
      ]
     },
     "execution_count": 53,
     "metadata": {},
     "output_type": "execute_result"
    }
   ],
   "source": [
    "new_feed.Timeperiod_Desc.value_counts()"
   ]
  },
  {
   "cell_type": "code",
   "execution_count": 55,
   "id": "18c20c78-67bf-4624-aecd-3088ae59c023",
   "metadata": {},
   "outputs": [],
   "source": [
    "#standardize market year(renaming)"
   ]
  },
  {
   "cell_type": "code",
   "execution_count": 57,
   "id": "3cb3fae4-8427-46bb-a3a3-981e8ea4b7d8",
   "metadata": {},
   "outputs": [
    {
     "name": "stderr",
     "output_type": "stream",
     "text": [
      "C:\\Users\\Laxmi Computers\\AppData\\Local\\Temp\\ipykernel_6156\\2481081925.py:11: SettingWithCopyWarning: \n",
      "A value is trying to be set on a copy of a slice from a DataFrame.\n",
      "Try using .loc[row_indexer,col_indexer] = value instead\n",
      "\n",
      "See the caveats in the documentation: https://pandas.pydata.org/pandas-docs/stable/user_guide/indexing.html#returning-a-view-versus-a-copy\n",
      "  new_feed['Timeperiod_Desc'] = new_feed['Timeperiod_Desc'].replace(timeperiod_mapping)\n"
     ]
    }
   ],
   "source": [
    "# Mapping for standardizing marketing year descriptions\n",
    "timeperiod_mapping = {\n",
    "    'MY Sep-Aug': 'MY(Sep-Aug)',\n",
    "    'MY Jun-May': 'MY(Jun-May)',\n",
    "    'MY Oct-Sep': 'MY (Oct-Sep)',\n",
    "    'MY Aug-Jul': 'MY (Aug-Jul)',\n",
    "    'Commodity Market Year':'CMY'\n",
    "}\n",
    "\n",
    "# Apply the mapping\n",
    "new_feed['Timeperiod_Desc'] = new_feed['Timeperiod_Desc'].replace(timeperiod_mapping)\n"
   ]
  },
  {
   "cell_type": "code",
   "execution_count": 59,
   "id": "d9a8a004-a7ba-41dd-8322-6e22988a1f1e",
   "metadata": {},
   "outputs": [
    {
     "name": "stdout",
     "output_type": "stream",
     "text": [
      "['Aug' 'Sep' 'Oct' 'Nov' 'Dec' 'CMY' 'Jan' 'Feb' 'Mar' 'Apr' 'May' 'Jun'\n",
      " 'Jul' 'MY(Sep-Aug)' 'MY(Jun-May)' 'MY (Oct-Sep)' 'MY (Aug-Jul)']\n"
     ]
    }
   ],
   "source": [
    "# Define irrelevant periods\n",
    "irrelevant_periods = ['MMY AT']\n",
    "\n",
    "# Filter the dataset\n",
    "new_feed = new_feed[~new_feed['Timeperiod_Desc'].isin(irrelevant_periods)]\n",
    "\n",
    "# Check the remaining unique values\n",
    "print(new_feed['Timeperiod_Desc'].unique())\n"
   ]
  },
  {
   "cell_type": "code",
   "execution_count": 61,
   "id": "f7680e3c-8a92-4e05-bf07-227f82249b93",
   "metadata": {},
   "outputs": [
    {
     "data": {
      "text/html": [
       "<div>\n",
       "<style scoped>\n",
       "    .dataframe tbody tr th:only-of-type {\n",
       "        vertical-align: middle;\n",
       "    }\n",
       "\n",
       "    .dataframe tbody tr th {\n",
       "        vertical-align: top;\n",
       "    }\n",
       "\n",
       "    .dataframe thead th {\n",
       "        text-align: right;\n",
       "    }\n",
       "</style>\n",
       "<table border=\"1\" class=\"dataframe\">\n",
       "  <thead>\n",
       "    <tr style=\"text-align: right;\">\n",
       "      <th></th>\n",
       "      <th>SC_GroupCommod_Desc</th>\n",
       "      <th>SC_GeographyIndented_Desc</th>\n",
       "      <th>SC_Unit_Desc</th>\n",
       "      <th>Year_ID</th>\n",
       "      <th>SC_Frequency_Desc</th>\n",
       "      <th>Timeperiod_Desc</th>\n",
       "      <th>Amount</th>\n",
       "    </tr>\n",
       "  </thead>\n",
       "  <tbody>\n",
       "    <tr>\n",
       "      <th>0</th>\n",
       "      <td>Oats</td>\n",
       "      <td>United States</td>\n",
       "      <td>Dollars per bushel</td>\n",
       "      <td>1948</td>\n",
       "      <td>Monthly</td>\n",
       "      <td>Aug</td>\n",
       "      <td>0.690</td>\n",
       "    </tr>\n",
       "    <tr>\n",
       "      <th>1</th>\n",
       "      <td>Oats</td>\n",
       "      <td>United States</td>\n",
       "      <td>Dollars per bushel</td>\n",
       "      <td>1948</td>\n",
       "      <td>Monthly</td>\n",
       "      <td>Sep</td>\n",
       "      <td>0.690</td>\n",
       "    </tr>\n",
       "    <tr>\n",
       "      <th>2</th>\n",
       "      <td>Oats</td>\n",
       "      <td>United States</td>\n",
       "      <td>Dollars per bushel</td>\n",
       "      <td>1948</td>\n",
       "      <td>Monthly</td>\n",
       "      <td>Oct</td>\n",
       "      <td>0.700</td>\n",
       "    </tr>\n",
       "    <tr>\n",
       "      <th>3</th>\n",
       "      <td>Oats</td>\n",
       "      <td>United States</td>\n",
       "      <td>Dollars per bushel</td>\n",
       "      <td>1948</td>\n",
       "      <td>Monthly</td>\n",
       "      <td>Nov</td>\n",
       "      <td>0.760</td>\n",
       "    </tr>\n",
       "    <tr>\n",
       "      <th>4</th>\n",
       "      <td>Oats</td>\n",
       "      <td>United States</td>\n",
       "      <td>Dollars per bushel</td>\n",
       "      <td>1948</td>\n",
       "      <td>Monthly</td>\n",
       "      <td>Dec</td>\n",
       "      <td>0.760</td>\n",
       "    </tr>\n",
       "    <tr>\n",
       "      <th>...</th>\n",
       "      <td>...</td>\n",
       "      <td>...</td>\n",
       "      <td>...</td>\n",
       "      <td>...</td>\n",
       "      <td>...</td>\n",
       "      <td>...</td>\n",
       "      <td>...</td>\n",
       "    </tr>\n",
       "    <tr>\n",
       "      <th>406673</th>\n",
       "      <td>Oats</td>\n",
       "      <td>United States</td>\n",
       "      <td>Dollars per bushel</td>\n",
       "      <td>1948</td>\n",
       "      <td>Monthly</td>\n",
       "      <td>Jun</td>\n",
       "      <td>1.070</td>\n",
       "    </tr>\n",
       "    <tr>\n",
       "      <th>406674</th>\n",
       "      <td>Oats</td>\n",
       "      <td>United States</td>\n",
       "      <td>Dollars per bushel</td>\n",
       "      <td>1948</td>\n",
       "      <td>Monthly</td>\n",
       "      <td>Jul</td>\n",
       "      <td>0.870</td>\n",
       "    </tr>\n",
       "    <tr>\n",
       "      <th>461892</th>\n",
       "      <td>Oats</td>\n",
       "      <td>United States</td>\n",
       "      <td>Million acres</td>\n",
       "      <td>2017</td>\n",
       "      <td>Annual</td>\n",
       "      <td>CMY</td>\n",
       "      <td>0.804</td>\n",
       "    </tr>\n",
       "    <tr>\n",
       "      <th>461893</th>\n",
       "      <td>Oats</td>\n",
       "      <td>United States</td>\n",
       "      <td>Million acres</td>\n",
       "      <td>2018</td>\n",
       "      <td>Annual</td>\n",
       "      <td>CMY</td>\n",
       "      <td>0.865</td>\n",
       "    </tr>\n",
       "    <tr>\n",
       "      <th>461894</th>\n",
       "      <td>Oats</td>\n",
       "      <td>United States</td>\n",
       "      <td>Million acres</td>\n",
       "      <td>2019</td>\n",
       "      <td>Annual</td>\n",
       "      <td>CMY</td>\n",
       "      <td>0.909</td>\n",
       "    </tr>\n",
       "  </tbody>\n",
       "</table>\n",
       "<p>64984 rows × 7 columns</p>\n",
       "</div>"
      ],
      "text/plain": [
       "       SC_GroupCommod_Desc SC_GeographyIndented_Desc        SC_Unit_Desc  \\\n",
       "0                     Oats             United States  Dollars per bushel   \n",
       "1                     Oats             United States  Dollars per bushel   \n",
       "2                     Oats             United States  Dollars per bushel   \n",
       "3                     Oats             United States  Dollars per bushel   \n",
       "4                     Oats             United States  Dollars per bushel   \n",
       "...                    ...                       ...                 ...   \n",
       "406673                Oats             United States  Dollars per bushel   \n",
       "406674                Oats             United States  Dollars per bushel   \n",
       "461892                Oats             United States       Million acres   \n",
       "461893                Oats             United States       Million acres   \n",
       "461894                Oats             United States       Million acres   \n",
       "\n",
       "        Year_ID SC_Frequency_Desc Timeperiod_Desc  Amount  \n",
       "0          1948           Monthly             Aug   0.690  \n",
       "1          1948           Monthly             Sep   0.690  \n",
       "2          1948           Monthly             Oct   0.700  \n",
       "3          1948           Monthly             Nov   0.760  \n",
       "4          1948           Monthly             Dec   0.760  \n",
       "...         ...               ...             ...     ...  \n",
       "406673     1948           Monthly             Jun   1.070  \n",
       "406674     1948           Monthly             Jul   0.870  \n",
       "461892     2017            Annual             CMY   0.804  \n",
       "461893     2018            Annual             CMY   0.865  \n",
       "461894     2019            Annual             CMY   0.909  \n",
       "\n",
       "[64984 rows x 7 columns]"
      ]
     },
     "execution_count": 61,
     "metadata": {},
     "output_type": "execute_result"
    }
   ],
   "source": [
    "new_feed"
   ]
  },
  {
   "cell_type": "code",
   "execution_count": 63,
   "id": "3e4c8d22-7591-4e39-b680-f1d8d5cc9d24",
   "metadata": {},
   "outputs": [
    {
     "data": {
      "text/plain": [
       "Timeperiod_Desc\n",
       "Apr             4711\n",
       "May             4703\n",
       "Jun             4686\n",
       "Mar             4675\n",
       "Jul             4662\n",
       "Jan             4657\n",
       "Feb             4655\n",
       "Aug             4532\n",
       "Oct             4529\n",
       "Sep             4520\n",
       "Dec             4513\n",
       "Nov             4509\n",
       "MY(Jun-May)     3465\n",
       "MY(Sep-Aug)     3262\n",
       "CMY             2333\n",
       "MY (Oct-Sep)     541\n",
       "MY (Aug-Jul)      31\n",
       "Name: count, dtype: int64"
      ]
     },
     "execution_count": 63,
     "metadata": {},
     "output_type": "execute_result"
    }
   ],
   "source": [
    "new_feed.Timeperiod_Desc.value_counts()"
   ]
  },
  {
   "cell_type": "code",
   "execution_count": 65,
   "id": "ccd79144-e79d-4e3f-ac1a-b27f40992a7b",
   "metadata": {},
   "outputs": [],
   "source": [
    "new_feed=new_feed.drop(columns=['SC_Frequency_Desc'])"
   ]
  },
  {
   "cell_type": "code",
   "execution_count": 67,
   "id": "1cfdf649-e9a9-490d-bd67-62d42cddb124",
   "metadata": {},
   "outputs": [
    {
     "data": {
      "text/html": [
       "<div>\n",
       "<style scoped>\n",
       "    .dataframe tbody tr th:only-of-type {\n",
       "        vertical-align: middle;\n",
       "    }\n",
       "\n",
       "    .dataframe tbody tr th {\n",
       "        vertical-align: top;\n",
       "    }\n",
       "\n",
       "    .dataframe thead th {\n",
       "        text-align: right;\n",
       "    }\n",
       "</style>\n",
       "<table border=\"1\" class=\"dataframe\">\n",
       "  <thead>\n",
       "    <tr style=\"text-align: right;\">\n",
       "      <th></th>\n",
       "      <th>SC_GroupCommod_Desc</th>\n",
       "      <th>SC_GeographyIndented_Desc</th>\n",
       "      <th>SC_Unit_Desc</th>\n",
       "      <th>Year_ID</th>\n",
       "      <th>Timeperiod_Desc</th>\n",
       "      <th>Amount</th>\n",
       "    </tr>\n",
       "  </thead>\n",
       "  <tbody>\n",
       "    <tr>\n",
       "      <th>0</th>\n",
       "      <td>Oats</td>\n",
       "      <td>United States</td>\n",
       "      <td>Dollars per bushel</td>\n",
       "      <td>1948</td>\n",
       "      <td>Aug</td>\n",
       "      <td>0.690</td>\n",
       "    </tr>\n",
       "    <tr>\n",
       "      <th>1</th>\n",
       "      <td>Oats</td>\n",
       "      <td>United States</td>\n",
       "      <td>Dollars per bushel</td>\n",
       "      <td>1948</td>\n",
       "      <td>Sep</td>\n",
       "      <td>0.690</td>\n",
       "    </tr>\n",
       "    <tr>\n",
       "      <th>2</th>\n",
       "      <td>Oats</td>\n",
       "      <td>United States</td>\n",
       "      <td>Dollars per bushel</td>\n",
       "      <td>1948</td>\n",
       "      <td>Oct</td>\n",
       "      <td>0.700</td>\n",
       "    </tr>\n",
       "    <tr>\n",
       "      <th>3</th>\n",
       "      <td>Oats</td>\n",
       "      <td>United States</td>\n",
       "      <td>Dollars per bushel</td>\n",
       "      <td>1948</td>\n",
       "      <td>Nov</td>\n",
       "      <td>0.760</td>\n",
       "    </tr>\n",
       "    <tr>\n",
       "      <th>4</th>\n",
       "      <td>Oats</td>\n",
       "      <td>United States</td>\n",
       "      <td>Dollars per bushel</td>\n",
       "      <td>1948</td>\n",
       "      <td>Dec</td>\n",
       "      <td>0.760</td>\n",
       "    </tr>\n",
       "    <tr>\n",
       "      <th>...</th>\n",
       "      <td>...</td>\n",
       "      <td>...</td>\n",
       "      <td>...</td>\n",
       "      <td>...</td>\n",
       "      <td>...</td>\n",
       "      <td>...</td>\n",
       "    </tr>\n",
       "    <tr>\n",
       "      <th>406673</th>\n",
       "      <td>Oats</td>\n",
       "      <td>United States</td>\n",
       "      <td>Dollars per bushel</td>\n",
       "      <td>1948</td>\n",
       "      <td>Jun</td>\n",
       "      <td>1.070</td>\n",
       "    </tr>\n",
       "    <tr>\n",
       "      <th>406674</th>\n",
       "      <td>Oats</td>\n",
       "      <td>United States</td>\n",
       "      <td>Dollars per bushel</td>\n",
       "      <td>1948</td>\n",
       "      <td>Jul</td>\n",
       "      <td>0.870</td>\n",
       "    </tr>\n",
       "    <tr>\n",
       "      <th>461892</th>\n",
       "      <td>Oats</td>\n",
       "      <td>United States</td>\n",
       "      <td>Million acres</td>\n",
       "      <td>2017</td>\n",
       "      <td>CMY</td>\n",
       "      <td>0.804</td>\n",
       "    </tr>\n",
       "    <tr>\n",
       "      <th>461893</th>\n",
       "      <td>Oats</td>\n",
       "      <td>United States</td>\n",
       "      <td>Million acres</td>\n",
       "      <td>2018</td>\n",
       "      <td>CMY</td>\n",
       "      <td>0.865</td>\n",
       "    </tr>\n",
       "    <tr>\n",
       "      <th>461894</th>\n",
       "      <td>Oats</td>\n",
       "      <td>United States</td>\n",
       "      <td>Million acres</td>\n",
       "      <td>2019</td>\n",
       "      <td>CMY</td>\n",
       "      <td>0.909</td>\n",
       "    </tr>\n",
       "  </tbody>\n",
       "</table>\n",
       "<p>64984 rows × 6 columns</p>\n",
       "</div>"
      ],
      "text/plain": [
       "       SC_GroupCommod_Desc SC_GeographyIndented_Desc        SC_Unit_Desc  \\\n",
       "0                     Oats             United States  Dollars per bushel   \n",
       "1                     Oats             United States  Dollars per bushel   \n",
       "2                     Oats             United States  Dollars per bushel   \n",
       "3                     Oats             United States  Dollars per bushel   \n",
       "4                     Oats             United States  Dollars per bushel   \n",
       "...                    ...                       ...                 ...   \n",
       "406673                Oats             United States  Dollars per bushel   \n",
       "406674                Oats             United States  Dollars per bushel   \n",
       "461892                Oats             United States       Million acres   \n",
       "461893                Oats             United States       Million acres   \n",
       "461894                Oats             United States       Million acres   \n",
       "\n",
       "        Year_ID Timeperiod_Desc  Amount  \n",
       "0          1948             Aug   0.690  \n",
       "1          1948             Sep   0.690  \n",
       "2          1948             Oct   0.700  \n",
       "3          1948             Nov   0.760  \n",
       "4          1948             Dec   0.760  \n",
       "...         ...             ...     ...  \n",
       "406673     1948             Jun   1.070  \n",
       "406674     1948             Jul   0.870  \n",
       "461892     2017             CMY   0.804  \n",
       "461893     2018             CMY   0.865  \n",
       "461894     2019             CMY   0.909  \n",
       "\n",
       "[64984 rows x 6 columns]"
      ]
     },
     "execution_count": 67,
     "metadata": {},
     "output_type": "execute_result"
    }
   ],
   "source": [
    "new_feed"
   ]
  },
  {
   "cell_type": "code",
   "execution_count": 69,
   "id": "179694cb-6db4-4512-b8d3-2ed76b1fc03a",
   "metadata": {},
   "outputs": [],
   "source": [
    "# Sample 5000 rows\n",
    "sampled_data = new_feed.sample(n=5000, random_state=42)"
   ]
  },
  {
   "cell_type": "code",
   "execution_count": 71,
   "id": "9b8117ec-e8ee-4cff-8a2b-2e476b63d51b",
   "metadata": {},
   "outputs": [
    {
     "data": {
      "text/html": [
       "<div>\n",
       "<style scoped>\n",
       "    .dataframe tbody tr th:only-of-type {\n",
       "        vertical-align: middle;\n",
       "    }\n",
       "\n",
       "    .dataframe tbody tr th {\n",
       "        vertical-align: top;\n",
       "    }\n",
       "\n",
       "    .dataframe thead th {\n",
       "        text-align: right;\n",
       "    }\n",
       "</style>\n",
       "<table border=\"1\" class=\"dataframe\">\n",
       "  <thead>\n",
       "    <tr style=\"text-align: right;\">\n",
       "      <th></th>\n",
       "      <th>SC_GroupCommod_Desc</th>\n",
       "      <th>SC_GeographyIndented_Desc</th>\n",
       "      <th>SC_Unit_Desc</th>\n",
       "      <th>Year_ID</th>\n",
       "      <th>Timeperiod_Desc</th>\n",
       "      <th>Amount</th>\n",
       "    </tr>\n",
       "  </thead>\n",
       "  <tbody>\n",
       "    <tr>\n",
       "      <th>213076</th>\n",
       "      <td>Sorghum</td>\n",
       "      <td>Canada</td>\n",
       "      <td>1,000 metric tons</td>\n",
       "      <td>1992</td>\n",
       "      <td>Jul</td>\n",
       "      <td>0.105000</td>\n",
       "    </tr>\n",
       "    <tr>\n",
       "      <th>155289</th>\n",
       "      <td>Corn</td>\n",
       "      <td>Western Hemisphere</td>\n",
       "      <td>1,000 liters</td>\n",
       "      <td>2013</td>\n",
       "      <td>Sep</td>\n",
       "      <td>143616.305000</td>\n",
       "    </tr>\n",
       "    <tr>\n",
       "      <th>15402</th>\n",
       "      <td>Oats</td>\n",
       "      <td>United States</td>\n",
       "      <td>Million bushels</td>\n",
       "      <td>2001</td>\n",
       "      <td>MY(Jun-May)</td>\n",
       "      <td>59.200000</td>\n",
       "    </tr>\n",
       "    <tr>\n",
       "      <th>68232</th>\n",
       "      <td>Sorghum</td>\n",
       "      <td>World</td>\n",
       "      <td>Bushels</td>\n",
       "      <td>1996</td>\n",
       "      <td>May</td>\n",
       "      <td>50.391360</td>\n",
       "    </tr>\n",
       "    <tr>\n",
       "      <th>163438</th>\n",
       "      <td>Oats</td>\n",
       "      <td>North America</td>\n",
       "      <td>1,000 metric tons</td>\n",
       "      <td>2001</td>\n",
       "      <td>Mar</td>\n",
       "      <td>93.413899</td>\n",
       "    </tr>\n",
       "    <tr>\n",
       "      <th>...</th>\n",
       "      <td>...</td>\n",
       "      <td>...</td>\n",
       "      <td>...</td>\n",
       "      <td>...</td>\n",
       "      <td>...</td>\n",
       "      <td>...</td>\n",
       "    </tr>\n",
       "    <tr>\n",
       "      <th>219054</th>\n",
       "      <td>Oats</td>\n",
       "      <td>Canada</td>\n",
       "      <td>1,000 metric tons</td>\n",
       "      <td>2006</td>\n",
       "      <td>Oct</td>\n",
       "      <td>1.027000</td>\n",
       "    </tr>\n",
       "    <tr>\n",
       "      <th>2510</th>\n",
       "      <td>Barley</td>\n",
       "      <td>United States</td>\n",
       "      <td>Dollars per bushel</td>\n",
       "      <td>1919</td>\n",
       "      <td>Nov</td>\n",
       "      <td>1.190000</td>\n",
       "    </tr>\n",
       "    <tr>\n",
       "      <th>153807</th>\n",
       "      <td>Barley</td>\n",
       "      <td>Western Hemisphere</td>\n",
       "      <td>1,000 metric tons</td>\n",
       "      <td>2004</td>\n",
       "      <td>Oct</td>\n",
       "      <td>8.067000</td>\n",
       "    </tr>\n",
       "    <tr>\n",
       "      <th>68925</th>\n",
       "      <td>Sorghum</td>\n",
       "      <td>World</td>\n",
       "      <td>Bushels</td>\n",
       "      <td>2013</td>\n",
       "      <td>Oct</td>\n",
       "      <td>4629.706200</td>\n",
       "    </tr>\n",
       "    <tr>\n",
       "      <th>70982</th>\n",
       "      <td>Corn</td>\n",
       "      <td>World</td>\n",
       "      <td>1,000 metric tons</td>\n",
       "      <td>2006</td>\n",
       "      <td>Mar</td>\n",
       "      <td>4613.183778</td>\n",
       "    </tr>\n",
       "  </tbody>\n",
       "</table>\n",
       "<p>5000 rows × 6 columns</p>\n",
       "</div>"
      ],
      "text/plain": [
       "       SC_GroupCommod_Desc SC_GeographyIndented_Desc        SC_Unit_Desc  \\\n",
       "213076             Sorghum                    Canada   1,000 metric tons   \n",
       "155289                Corn        Western Hemisphere        1,000 liters   \n",
       "15402                 Oats             United States     Million bushels   \n",
       "68232              Sorghum                     World             Bushels   \n",
       "163438                Oats             North America   1,000 metric tons   \n",
       "...                    ...                       ...                 ...   \n",
       "219054                Oats                    Canada   1,000 metric tons   \n",
       "2510                Barley             United States  Dollars per bushel   \n",
       "153807              Barley        Western Hemisphere   1,000 metric tons   \n",
       "68925              Sorghum                     World             Bushels   \n",
       "70982                 Corn                     World   1,000 metric tons   \n",
       "\n",
       "        Year_ID Timeperiod_Desc         Amount  \n",
       "213076     1992             Jul       0.105000  \n",
       "155289     2013             Sep  143616.305000  \n",
       "15402      2001     MY(Jun-May)      59.200000  \n",
       "68232      1996             May      50.391360  \n",
       "163438     2001             Mar      93.413899  \n",
       "...         ...             ...            ...  \n",
       "219054     2006             Oct       1.027000  \n",
       "2510       1919             Nov       1.190000  \n",
       "153807     2004             Oct       8.067000  \n",
       "68925      2013             Oct    4629.706200  \n",
       "70982      2006             Mar    4613.183778  \n",
       "\n",
       "[5000 rows x 6 columns]"
      ]
     },
     "execution_count": 71,
     "metadata": {},
     "output_type": "execute_result"
    }
   ],
   "source": [
    "feed_grain=sampled_data\n",
    "feed_grain"
   ]
  },
  {
   "cell_type": "code",
   "execution_count": 73,
   "id": "1941d764-6d04-4a88-9331-c9341ca37ca2",
   "metadata": {},
   "outputs": [
    {
     "data": {
      "text/plain": [
       "4"
      ]
     },
     "execution_count": 73,
     "metadata": {},
     "output_type": "execute_result"
    }
   ],
   "source": [
    "feed_grain.duplicated().sum()"
   ]
  },
  {
   "cell_type": "code",
   "execution_count": 75,
   "id": "7763e151-bb45-4ac9-aca5-80cb982c1808",
   "metadata": {},
   "outputs": [],
   "source": [
    "feed_grain= feed_grain.drop_duplicates(subset=['SC_GroupCommod_Desc','SC_GeographyIndented_Desc','SC_Unit_Desc','Year_ID','Timeperiod_Desc','Amount'])\n"
   ]
  },
  {
   "cell_type": "code",
   "execution_count": 77,
   "id": "1fd1d473-3e4f-4955-9e61-5630212ce7dd",
   "metadata": {},
   "outputs": [
    {
     "data": {
      "text/plain": [
       "572"
      ]
     },
     "execution_count": 77,
     "metadata": {},
     "output_type": "execute_result"
    }
   ],
   "source": [
    "new_feed.duplicated().sum()"
   ]
  },
  {
   "cell_type": "code",
   "execution_count": 79,
   "id": "d1b017a4-edee-4a44-99ab-e1961d761bb2",
   "metadata": {},
   "outputs": [
    {
     "data": {
      "text/plain": [
       "SC_GroupCommod_Desc          0\n",
       "SC_GeographyIndented_Desc    0\n",
       "SC_Unit_Desc                 0\n",
       "Year_ID                      0\n",
       "Timeperiod_Desc              0\n",
       "Amount                       0\n",
       "dtype: int64"
      ]
     },
     "execution_count": 79,
     "metadata": {},
     "output_type": "execute_result"
    }
   ],
   "source": [
    "feed_grain.isnull().sum()"
   ]
  },
  {
   "cell_type": "code",
   "execution_count": 81,
   "id": "31eb5c2e-6447-4a5e-9e16-c23e91f65c40",
   "metadata": {},
   "outputs": [
    {
     "data": {
      "text/html": [
       "<div>\n",
       "<style scoped>\n",
       "    .dataframe tbody tr th:only-of-type {\n",
       "        vertical-align: middle;\n",
       "    }\n",
       "\n",
       "    .dataframe tbody tr th {\n",
       "        vertical-align: top;\n",
       "    }\n",
       "\n",
       "    .dataframe thead th {\n",
       "        text-align: right;\n",
       "    }\n",
       "</style>\n",
       "<table border=\"1\" class=\"dataframe\">\n",
       "  <thead>\n",
       "    <tr style=\"text-align: right;\">\n",
       "      <th></th>\n",
       "      <th>SC_GroupCommod_Desc</th>\n",
       "      <th>SC_GeographyIndented_Desc</th>\n",
       "      <th>SC_Unit_Desc</th>\n",
       "      <th>Year_ID</th>\n",
       "      <th>Timeperiod_Desc</th>\n",
       "      <th>Amount</th>\n",
       "    </tr>\n",
       "  </thead>\n",
       "  <tbody>\n",
       "    <tr>\n",
       "      <th>213076</th>\n",
       "      <td>Sorghum</td>\n",
       "      <td>Canada</td>\n",
       "      <td>1,000 metric tons</td>\n",
       "      <td>1992</td>\n",
       "      <td>Jul</td>\n",
       "      <td>0.105000</td>\n",
       "    </tr>\n",
       "    <tr>\n",
       "      <th>155289</th>\n",
       "      <td>Corn</td>\n",
       "      <td>Western Hemisphere</td>\n",
       "      <td>1,000 liters</td>\n",
       "      <td>2013</td>\n",
       "      <td>Sep</td>\n",
       "      <td>143616.305000</td>\n",
       "    </tr>\n",
       "    <tr>\n",
       "      <th>15402</th>\n",
       "      <td>Oats</td>\n",
       "      <td>United States</td>\n",
       "      <td>Million bushels</td>\n",
       "      <td>2001</td>\n",
       "      <td>MY(Jun-May)</td>\n",
       "      <td>59.200000</td>\n",
       "    </tr>\n",
       "    <tr>\n",
       "      <th>68232</th>\n",
       "      <td>Sorghum</td>\n",
       "      <td>World</td>\n",
       "      <td>Bushels</td>\n",
       "      <td>1996</td>\n",
       "      <td>May</td>\n",
       "      <td>50.391360</td>\n",
       "    </tr>\n",
       "    <tr>\n",
       "      <th>163438</th>\n",
       "      <td>Oats</td>\n",
       "      <td>North America</td>\n",
       "      <td>1,000 metric tons</td>\n",
       "      <td>2001</td>\n",
       "      <td>Mar</td>\n",
       "      <td>93.413899</td>\n",
       "    </tr>\n",
       "    <tr>\n",
       "      <th>...</th>\n",
       "      <td>...</td>\n",
       "      <td>...</td>\n",
       "      <td>...</td>\n",
       "      <td>...</td>\n",
       "      <td>...</td>\n",
       "      <td>...</td>\n",
       "    </tr>\n",
       "    <tr>\n",
       "      <th>219054</th>\n",
       "      <td>Oats</td>\n",
       "      <td>Canada</td>\n",
       "      <td>1,000 metric tons</td>\n",
       "      <td>2006</td>\n",
       "      <td>Oct</td>\n",
       "      <td>1.027000</td>\n",
       "    </tr>\n",
       "    <tr>\n",
       "      <th>2510</th>\n",
       "      <td>Barley</td>\n",
       "      <td>United States</td>\n",
       "      <td>Dollars per bushel</td>\n",
       "      <td>1919</td>\n",
       "      <td>Nov</td>\n",
       "      <td>1.190000</td>\n",
       "    </tr>\n",
       "    <tr>\n",
       "      <th>153807</th>\n",
       "      <td>Barley</td>\n",
       "      <td>Western Hemisphere</td>\n",
       "      <td>1,000 metric tons</td>\n",
       "      <td>2004</td>\n",
       "      <td>Oct</td>\n",
       "      <td>8.067000</td>\n",
       "    </tr>\n",
       "    <tr>\n",
       "      <th>68925</th>\n",
       "      <td>Sorghum</td>\n",
       "      <td>World</td>\n",
       "      <td>Bushels</td>\n",
       "      <td>2013</td>\n",
       "      <td>Oct</td>\n",
       "      <td>4629.706200</td>\n",
       "    </tr>\n",
       "    <tr>\n",
       "      <th>70982</th>\n",
       "      <td>Corn</td>\n",
       "      <td>World</td>\n",
       "      <td>1,000 metric tons</td>\n",
       "      <td>2006</td>\n",
       "      <td>Mar</td>\n",
       "      <td>4613.183778</td>\n",
       "    </tr>\n",
       "  </tbody>\n",
       "</table>\n",
       "<p>4996 rows × 6 columns</p>\n",
       "</div>"
      ],
      "text/plain": [
       "       SC_GroupCommod_Desc SC_GeographyIndented_Desc        SC_Unit_Desc  \\\n",
       "213076             Sorghum                    Canada   1,000 metric tons   \n",
       "155289                Corn        Western Hemisphere        1,000 liters   \n",
       "15402                 Oats             United States     Million bushels   \n",
       "68232              Sorghum                     World             Bushels   \n",
       "163438                Oats             North America   1,000 metric tons   \n",
       "...                    ...                       ...                 ...   \n",
       "219054                Oats                    Canada   1,000 metric tons   \n",
       "2510                Barley             United States  Dollars per bushel   \n",
       "153807              Barley        Western Hemisphere   1,000 metric tons   \n",
       "68925              Sorghum                     World             Bushels   \n",
       "70982                 Corn                     World   1,000 metric tons   \n",
       "\n",
       "        Year_ID Timeperiod_Desc         Amount  \n",
       "213076     1992             Jul       0.105000  \n",
       "155289     2013             Sep  143616.305000  \n",
       "15402      2001     MY(Jun-May)      59.200000  \n",
       "68232      1996             May      50.391360  \n",
       "163438     2001             Mar      93.413899  \n",
       "...         ...             ...            ...  \n",
       "219054     2006             Oct       1.027000  \n",
       "2510       1919             Nov       1.190000  \n",
       "153807     2004             Oct       8.067000  \n",
       "68925      2013             Oct    4629.706200  \n",
       "70982      2006             Mar    4613.183778  \n",
       "\n",
       "[4996 rows x 6 columns]"
      ]
     },
     "execution_count": 81,
     "metadata": {},
     "output_type": "execute_result"
    }
   ],
   "source": [
    "feed_grain"
   ]
  },
  {
   "cell_type": "code",
   "execution_count": 83,
   "id": "d2bc091f-c027-4d73-8670-bd60c4a18f81",
   "metadata": {},
   "outputs": [
    {
     "data": {
      "text/plain": [
       "(4996, 6)"
      ]
     },
     "execution_count": 83,
     "metadata": {},
     "output_type": "execute_result"
    }
   ],
   "source": [
    "feed_grain.shape"
   ]
  },
  {
   "cell_type": "code",
   "execution_count": 85,
   "id": "4d95bc50-925d-43a7-b900-7a5ae435b95d",
   "metadata": {},
   "outputs": [],
   "source": [
    "#visualization"
   ]
  },
  {
   "cell_type": "markdown",
   "id": "d0be46f2-3489-492b-989a-d864dc69da8e",
   "metadata": {},
   "source": [
    "# 1.Distribution of Feed Types"
   ]
  },
  {
   "cell_type": "code",
   "execution_count": 88,
   "id": "993c79c1-1278-4e09-975e-584caffc3db6",
   "metadata": {},
   "outputs": [
    {
     "data": {
      "text/plain": [
       "SC_GroupCommod_Desc\n",
       "Barley             1661\n",
       "Corn               1377\n",
       "Oats               1117\n",
       "Sorghum             531\n",
       "Byproduct feeds     310\n",
       "Name: count, dtype: int64"
      ]
     },
     "execution_count": 88,
     "metadata": {},
     "output_type": "execute_result"
    }
   ],
   "source": [
    "feed_grain.SC_GroupCommod_Desc.value_counts()"
   ]
  },
  {
   "cell_type": "code",
   "execution_count": 90,
   "id": "14d22a35-7d53-4f2f-a1c4-2b3e245561e5",
   "metadata": {},
   "outputs": [
    {
     "data": {
      "image/png": "[encoded data removed]",
      "text/plain": [
       "<Figure size 1000x600 with 1 Axes>"
      ]
     },
     "metadata": {},
     "output_type": "display_data"
    }
   ],
   "source": [
    "# Bar plot for feed types\n",
    "plt.figure(figsize=(10, 6))\n",
    "sns.countplot(y='SC_GroupCommod_Desc', data=feed_grain, order=feed_grain['SC_GroupCommod_Desc'].value_counts().index)\n",
    "plt.title('Distribution of Feed Types')\n",
    "plt.xlabel('Count')\n",
    "plt.ylabel('Feed Types')\n",
    "plt.show()\n"
   ]
  },
  {
   "cell_type": "code",
   "execution_count": 91,
   "id": "7b8eeaf8-240e-4682-bb58-598cfef292a9",
   "metadata": {},
   "outputs": [
    {
     "name": "stdout",
     "output_type": "stream",
     "text": [
      "       SC_GroupCommod_Desc  Year_ID         Amount\n",
      "213076             Sorghum     1992       0.105000\n",
      "155289                Corn     2013  143616.305000\n",
      "15402                 Oats     2001      59.200000\n",
      "68232              Sorghum     1996      50.391360\n",
      "163438                Oats     2001      93.413899\n",
      "...                    ...      ...            ...\n",
      "219054                Oats     2006       1.027000\n",
      "2510                Barley     1919       1.190000\n",
      "153807              Barley     2004       8.067000\n",
      "68925              Sorghum     2013    4629.706200\n",
      "70982                 Corn     2006    4613.183778\n",
      "\n",
      "[4996 rows x 3 columns]\n"
     ]
    }
   ],
   "source": [
    "# Example: Select specific columns\n",
    "selected_column= ['SC_GroupCommod_Desc','Year_ID', 'Amount']\n",
    "selected_df = feed_grain[selected_column]\n",
    "\n",
    "print(selected_df)  # Display the first few rows\n"
   ]
  },
  {
   "cell_type": "code",
   "execution_count": 94,
   "id": "740f05b0-5447-4801-8382-05dd5b5aa660",
   "metadata": {},
   "outputs": [
    {
     "name": "stdout",
     "output_type": "stream",
     "text": [
      "[2013 2001 2017 2010 2005 2007 2016 2000 2003 2015 2004 2011 2014 2006\n",
      " 2012 2018 2002 2019 2009 2008]\n"
     ]
    }
   ],
   "source": [
    "# Example: Filter data for years >= 2000\n",
    "filtered_df = feed_grain[feed_grain['Year_ID'] >= 2000]\n",
    "\n",
    "# Check the filtered data\n",
    "print(filtered_df['Year_ID'].unique())  # Verify the years included\n"
   ]
  },
  {
   "cell_type": "code",
   "execution_count": 96,
   "id": "bea8a1ce-899c-47da-be96-42053ef23b9b",
   "metadata": {},
   "outputs": [
    {
     "data": {
      "image/png": "[encoded data removed]",
      "text/plain": [
       "<Figure size 1200x600 with 1 Axes>"
      ]
     },
     "metadata": {},
     "output_type": "display_data"
    }
   ],
   "source": [
    "# Line plot of Amount over Years\n",
    "plt.figure(figsize=(12, 6))\n",
    "sns.lineplot(data=filtered_df, x='Year_ID', y='Amount', hue='SC_GroupCommod_Desc', marker='o')\n",
    "plt.title('Feed Amount Over Time')\n",
    "plt.xlabel('Year')\n",
    "plt.ylabel('Amount')\n",
    "plt.legend(bbox_to_anchor=(1.05, 1), loc='upper left')\n",
    "plt.show()\n"
   ]
  },
  {
   "cell_type": "code",
   "execution_count": 97,
   "id": "39da2ae1-b2e3-433a-8fdf-f90dc1a7da78",
   "metadata": {},
   "outputs": [
    {
     "data": {
      "image/png": "[encoded data removed]",
      "text/plain": [
       "<Figure size 1200x600 with 1 Axes>"
      ]
     },
     "metadata": {},
     "output_type": "display_data"
    }
   ],
   "source": [
    "# Group data by Time Period and aggregate the amount\n",
    "time_period_data = feed_grain.groupby('Timeperiod_Desc')['Amount'].sum()\n",
    "\n",
    "# Bar plot\n",
    "plt.figure(figsize=(12, 6))\n",
    "time_period_data.plot(kind='bar', color='green')\n",
    "plt.title('Feed Amount by Time Period')\n",
    "plt.xlabel('Time Period')\n",
    "plt.ylabel('Total Amount')\n",
    "plt.xticks(rotation=45)\n",
    "plt.show()\n"
   ]
  },
  {
   "cell_type": "code",
   "execution_count": 98,
   "id": "5662f14c-18a4-4a14-89aa-2f61924b3de8",
   "metadata": {},
   "outputs": [
    {
     "data": {
      "image/png": "[encoded data removed]",
      "text/plain": [
       "<Figure size 800x800 with 1 Axes>"
      ]
     },
     "metadata": {},
     "output_type": "display_data"
    }
   ],
   "source": [
    "# Pie chart for units\n",
    "unit_counts = feed_grain['SC_Unit_Desc'].value_counts()\n",
    "\n",
    "plt.figure(figsize=(8, 8))\n",
    "unit_counts.plot(kind='pie', autopct='%1.1f%%', startangle=90, colormap='tab20c')\n",
    "plt.title('Distribution of Units')\n",
    "plt.ylabel('')\n",
    "plt.show()\n"
   ]
  },
  {
   "cell_type": "code",
   "execution_count": 99,
   "id": "76d39590-219c-411b-be81-5c153d69c84d",
   "metadata": {},
   "outputs": [
    {
     "name": "stderr",
     "output_type": "stream",
     "text": [
      "C:\\Users\\Laxmi Computers\\AppData\\Local\\Temp\\ipykernel_6156\\1939699984.py:1: UserWarning: \n",
      "\n",
      "`distplot` is a deprecated function and will be removed in seaborn v0.14.0.\n",
      "\n",
      "Please adapt your code to use either `displot` (a figure-level function with\n",
      "similar flexibility) or `histplot` (an axes-level function for histograms).\n",
      "\n",
      "For a guide to updating your code to use the new functions, please see\n",
      "https://gist.github.com/mwaskom/de44147ed2974457ad6372750bbe5751\n",
      "\n",
      "  sns.distplot(feed_grain['Amount'],color = 'b')\n"
     ]
    },
    {
     "data": {
      "text/plain": [
       "<Axes: xlabel='Amount', ylabel='Density'>"
      ]
     },
     "execution_count": 99,
     "metadata": {},
     "output_type": "execute_result"
    },
    {
     "data": {
      "image/png": "[encoded data removed]",
      "text/plain": [
       "<Figure size 640x480 with 1 Axes>"
      ]
     },
     "metadata": {},
     "output_type": "display_data"
    }
   ],
   "source": [
    "sns.distplot(feed_grain['Amount'],color = 'b')"
   ]
  },
  {
   "cell_type": "code",
   "execution_count": 100,
   "id": "fe6b3339-0b2c-425d-b361-bcc9504cc362",
   "metadata": {},
   "outputs": [
    {
     "data": {
      "text/plain": [
       "<Axes: ylabel='Amount'>"
      ]
     },
     "execution_count": 100,
     "metadata": {},
     "output_type": "execute_result"
    },
    {
     "data": {
      "image/png": "[encoded data removed]",
      "text/plain": [
       "<Figure size 640x480 with 1 Axes>"
      ]
     },
     "metadata": {},
     "output_type": "display_data"
    }
   ],
   "source": [
    "#boxplot\n",
    "sns.boxplot(feed_grain['Amount'])"
   ]
  },
  {
   "cell_type": "code",
   "execution_count": 101,
   "id": "2dc70fba-38b7-4a36-b9be-9a8de4862d1e",
   "metadata": {},
   "outputs": [],
   "source": [
    "#outlier detection"
   ]
  },
  {
   "cell_type": "code",
   "execution_count": 102,
   "id": "13151705-71bb-4d9a-8e55-a85be1a53d92",
   "metadata": {},
   "outputs": [
    {
     "data": {
      "text/plain": [
       "427.96955075"
      ]
     },
     "execution_count": 102,
     "metadata": {},
     "output_type": "execute_result"
    }
   ],
   "source": [
    "Q1=new_feed['Amount'].quantile(.25)\n",
    "Q3=new_feed['Amount'].quantile(.75)\n",
    "IQR=Q3-Q1\n",
    "IQR"
   ]
  },
  {
   "cell_type": "code",
   "execution_count": 103,
   "id": "3500f1b3-c32d-40b7-827c-7ea0395d6f9b",
   "metadata": {},
   "outputs": [],
   "source": [
    "# Defining the lower and upper bounds for outliers\n",
    "lower_bound = Q1 - 1.5 * IQR\n",
    "upper_bound = Q3 + 1.5 * IQR"
   ]
  },
  {
   "cell_type": "code",
   "execution_count": 104,
   "id": "78299ef4-dded-435d-9389-aeb58600af5d",
   "metadata": {},
   "outputs": [],
   "source": [
    "# Removing outliers\n",
    "data_cleaned = feed_grain[(feed_grain['Amount'] >= lower_bound) & (feed_grain['Amount'] <= upper_bound)]"
   ]
  },
  {
   "cell_type": "code",
   "execution_count": 105,
   "id": "4e14ad40-9e13-43f4-b6ec-cf098866846a",
   "metadata": {},
   "outputs": [
    {
     "name": "stdout",
     "output_type": "stream",
     "text": [
      "Skewness after log transformation: 0.18983902506183228\n"
     ]
    },
    {
     "name": "stderr",
     "output_type": "stream",
     "text": [
      "C:\\Users\\Laxmi Computers\\anaconda3\\Lib\\site-packages\\pandas\\core\\arraylike.py:399: RuntimeWarning: invalid value encountered in log\n",
      "  result = getattr(ufunc, method)(*inputs, **kwargs)\n",
      "C:\\Users\\Laxmi Computers\\AppData\\Local\\Temp\\ipykernel_6156\\2630402300.py:2: SettingWithCopyWarning: \n",
      "A value is trying to be set on a copy of a slice from a DataFrame.\n",
      "Try using .loc[row_indexer,col_indexer] = value instead\n",
      "\n",
      "See the caveats in the documentation: https://pandas.pydata.org/pandas-docs/stable/user_guide/indexing.html#returning-a-view-versus-a-copy\n",
      "  data_cleaned['Amount_log'] = np.log(data_cleaned['Amount'] + 1)\n"
     ]
    }
   ],
   "source": [
    "# Applying log transformation directly \n",
    "data_cleaned['Amount_log'] = np.log(data_cleaned['Amount'] + 1)\n",
    "\n",
    "# Checking the skewness after the log transformation\n",
    "skewness_after_transformation = data_cleaned['Amount_log'].skew()\n",
    "\n",
    "# Output the skewness\n",
    "print(f\"Skewness after log transformation: {skewness_after_transformation}\")"
   ]
  },
  {
   "cell_type": "code",
   "execution_count": 106,
   "id": "ca65eb7d-a3aa-42b5-ad6e-57742507906c",
   "metadata": {},
   "outputs": [
    {
     "data": {
      "image/png": "[encoded data removed]",
      "text/plain": [
       "<Figure size 1000x600 with 1 Axes>"
      ]
     },
     "metadata": {},
     "output_type": "display_data"
    }
   ],
   "source": [
    "# 1. Histogram for the 'Amount' column\n",
    "plt.figure(figsize=(10, 6))\n",
    "sns.histplot(data_cleaned['Amount'], bins=50, kde=True)\n",
    "plt.title('Histogram of Amount')\n",
    "plt.xlabel('Amount')\n",
    "plt.ylabel('Frequency')\n",
    "plt.grid(True)\n",
    "plt.show()\n"
   ]
  },
  {
   "cell_type": "code",
   "execution_count": 107,
   "id": "934f3a23-03fa-4ab4-be81-b4d83bc9ccbf",
   "metadata": {},
   "outputs": [
    {
     "data": {
      "text/plain": [
       "<Axes: ylabel='Amount'>"
      ]
     },
     "execution_count": 107,
     "metadata": {},
     "output_type": "execute_result"
    },
    {
     "data": {
      "image/png": "[encoded data removed]",
      "text/plain": [
       "<Figure size 640x480 with 1 Axes>"
      ]
     },
     "metadata": {},
     "output_type": "display_data"
    }
   ],
   "source": [
    "sns.boxplot(data_cleaned['Amount'])"
   ]
  },
  {
   "cell_type": "code",
   "execution_count": 108,
   "id": "50ca5567-4517-43b6-9e66-b56f7a70e885",
   "metadata": {},
   "outputs": [
    {
     "data": {
      "image/png": "[encoded data removed]",
      "text/plain": [
       "<Figure size 1000x600 with 1 Axes>"
      ]
     },
     "metadata": {},
     "output_type": "display_data"
    }
   ],
   "source": [
    "# 2. Boxplot for the 'Amount' column\n",
    "plt.figure(figsize=(10, 6))\n",
    "sns.boxplot(x=data_cleaned['Amount'])\n",
    "plt.title('Boxplot of Amount')\n",
    "plt.grid(True)\n",
    "plt.show()"
   ]
  },
  {
   "cell_type": "code",
   "execution_count": 109,
   "id": "e45f71e7-cdd5-4098-b1a1-be25f3c706dd",
   "metadata": {},
   "outputs": [
    {
     "data": {
      "text/html": [
       "<div>\n",
       "<style scoped>\n",
       "    .dataframe tbody tr th:only-of-type {\n",
       "        vertical-align: middle;\n",
       "    }\n",
       "\n",
       "    .dataframe tbody tr th {\n",
       "        vertical-align: top;\n",
       "    }\n",
       "\n",
       "    .dataframe thead th {\n",
       "        text-align: right;\n",
       "    }\n",
       "</style>\n",
       "<table border=\"1\" class=\"dataframe\">\n",
       "  <thead>\n",
       "    <tr style=\"text-align: right;\">\n",
       "      <th></th>\n",
       "      <th>SC_GroupCommod_Desc</th>\n",
       "      <th>SC_GeographyIndented_Desc</th>\n",
       "      <th>SC_Unit_Desc</th>\n",
       "      <th>Year_ID</th>\n",
       "      <th>Timeperiod_Desc</th>\n",
       "      <th>Amount</th>\n",
       "      <th>Amount_log</th>\n",
       "    </tr>\n",
       "  </thead>\n",
       "  <tbody>\n",
       "    <tr>\n",
       "      <th>213076</th>\n",
       "      <td>Sorghum</td>\n",
       "      <td>Canada</td>\n",
       "      <td>1,000 metric tons</td>\n",
       "      <td>1992</td>\n",
       "      <td>Jul</td>\n",
       "      <td>0.105000</td>\n",
       "      <td>0.099845</td>\n",
       "    </tr>\n",
       "    <tr>\n",
       "      <th>15402</th>\n",
       "      <td>Oats</td>\n",
       "      <td>United States</td>\n",
       "      <td>Million bushels</td>\n",
       "      <td>2001</td>\n",
       "      <td>MY(Jun-May)</td>\n",
       "      <td>59.200000</td>\n",
       "      <td>4.097672</td>\n",
       "    </tr>\n",
       "    <tr>\n",
       "      <th>68232</th>\n",
       "      <td>Sorghum</td>\n",
       "      <td>World</td>\n",
       "      <td>Bushels</td>\n",
       "      <td>1996</td>\n",
       "      <td>May</td>\n",
       "      <td>50.391360</td>\n",
       "      <td>3.939470</td>\n",
       "    </tr>\n",
       "    <tr>\n",
       "      <th>163438</th>\n",
       "      <td>Oats</td>\n",
       "      <td>North America</td>\n",
       "      <td>1,000 metric tons</td>\n",
       "      <td>2001</td>\n",
       "      <td>Mar</td>\n",
       "      <td>93.413899</td>\n",
       "      <td>4.547688</td>\n",
       "    </tr>\n",
       "    <tr>\n",
       "      <th>160666</th>\n",
       "      <td>Oats</td>\n",
       "      <td>North America</td>\n",
       "      <td>1,000 metric tons</td>\n",
       "      <td>1991</td>\n",
       "      <td>Feb</td>\n",
       "      <td>1.158195</td>\n",
       "      <td>0.769272</td>\n",
       "    </tr>\n",
       "    <tr>\n",
       "      <th>...</th>\n",
       "      <td>...</td>\n",
       "      <td>...</td>\n",
       "      <td>...</td>\n",
       "      <td>...</td>\n",
       "      <td>...</td>\n",
       "      <td>...</td>\n",
       "      <td>...</td>\n",
       "    </tr>\n",
       "    <tr>\n",
       "      <th>18171</th>\n",
       "      <td>Corn</td>\n",
       "      <td>United States</td>\n",
       "      <td>Dollars per bushel</td>\n",
       "      <td>1977</td>\n",
       "      <td>Jul</td>\n",
       "      <td>1.880000</td>\n",
       "      <td>1.057790</td>\n",
       "    </tr>\n",
       "    <tr>\n",
       "      <th>1049</th>\n",
       "      <td>Sorghum</td>\n",
       "      <td>United States</td>\n",
       "      <td>Dollars per cwt</td>\n",
       "      <td>1943</td>\n",
       "      <td>Jun</td>\n",
       "      <td>2.030000</td>\n",
       "      <td>1.108563</td>\n",
       "    </tr>\n",
       "    <tr>\n",
       "      <th>219054</th>\n",
       "      <td>Oats</td>\n",
       "      <td>Canada</td>\n",
       "      <td>1,000 metric tons</td>\n",
       "      <td>2006</td>\n",
       "      <td>Oct</td>\n",
       "      <td>1.027000</td>\n",
       "      <td>0.706557</td>\n",
       "    </tr>\n",
       "    <tr>\n",
       "      <th>2510</th>\n",
       "      <td>Barley</td>\n",
       "      <td>United States</td>\n",
       "      <td>Dollars per bushel</td>\n",
       "      <td>1919</td>\n",
       "      <td>Nov</td>\n",
       "      <td>1.190000</td>\n",
       "      <td>0.783902</td>\n",
       "    </tr>\n",
       "    <tr>\n",
       "      <th>153807</th>\n",
       "      <td>Barley</td>\n",
       "      <td>Western Hemisphere</td>\n",
       "      <td>1,000 metric tons</td>\n",
       "      <td>2004</td>\n",
       "      <td>Oct</td>\n",
       "      <td>8.067000</td>\n",
       "      <td>2.204641</td>\n",
       "    </tr>\n",
       "  </tbody>\n",
       "</table>\n",
       "<p>3970 rows × 7 columns</p>\n",
       "</div>"
      ],
      "text/plain": [
       "       SC_GroupCommod_Desc SC_GeographyIndented_Desc        SC_Unit_Desc  \\\n",
       "213076             Sorghum                    Canada   1,000 metric tons   \n",
       "15402                 Oats             United States     Million bushels   \n",
       "68232              Sorghum                     World             Bushels   \n",
       "163438                Oats             North America   1,000 metric tons   \n",
       "160666                Oats             North America   1,000 metric tons   \n",
       "...                    ...                       ...                 ...   \n",
       "18171                 Corn             United States  Dollars per bushel   \n",
       "1049               Sorghum             United States     Dollars per cwt   \n",
       "219054                Oats                    Canada   1,000 metric tons   \n",
       "2510                Barley             United States  Dollars per bushel   \n",
       "153807              Barley        Western Hemisphere   1,000 metric tons   \n",
       "\n",
       "        Year_ID Timeperiod_Desc     Amount  Amount_log  \n",
       "213076     1992             Jul   0.105000    0.099845  \n",
       "15402      2001     MY(Jun-May)  59.200000    4.097672  \n",
       "68232      1996             May  50.391360    3.939470  \n",
       "163438     2001             Mar  93.413899    4.547688  \n",
       "160666     1991             Feb   1.158195    0.769272  \n",
       "...         ...             ...        ...         ...  \n",
       "18171      1977             Jul   1.880000    1.057790  \n",
       "1049       1943             Jun   2.030000    1.108563  \n",
       "219054     2006             Oct   1.027000    0.706557  \n",
       "2510       1919             Nov   1.190000    0.783902  \n",
       "153807     2004             Oct   8.067000    2.204641  \n",
       "\n",
       "[3970 rows x 7 columns]"
      ]
     },
     "execution_count": 109,
     "metadata": {},
     "output_type": "execute_result"
    }
   ],
   "source": [
    "data_cleaned"
   ]
  },
  {
   "cell_type": "code",
   "execution_count": 110,
   "id": "a090d751-6b32-4acf-b50c-c5f34a249e4e",
   "metadata": {},
   "outputs": [
    {
     "data": {
      "image/png": "[encoded data removed]",
      "text/plain": [
       "<Figure size 1000x800 with 2 Axes>"
      ]
     },
     "metadata": {},
     "output_type": "display_data"
    }
   ],
   "source": [
    "# 4. Correlation Heatmap: Checking correlation between numerical features\n",
    "numerical_columns = ['Year_ID','Amount_log']\n",
    "correlation_matrix = data_cleaned[numerical_columns].corr()\n",
    "\n",
    "plt.figure(figsize=(10, 8))\n",
    "sns.heatmap(correlation_matrix, annot=True, cmap='coolwarm', fmt='.2f')\n",
    "plt.title('Correlation Heatmap between Numerical Features')\n",
    "plt.show()"
   ]
  },
  {
   "cell_type": "code",
   "execution_count": 111,
   "id": "c5dd8060-be15-4c53-88d2-53d5f77d269e",
   "metadata": {},
   "outputs": [
    {
     "data": {
      "image/png": "[encoded data removed]",
      "text/plain": [
       "<Figure size 500x500 with 6 Axes>"
      ]
     },
     "metadata": {},
     "output_type": "display_data"
    }
   ],
   "source": [
    "# 3. Pair Plot for numerical columns\n",
    "sns.pairplot(data_cleaned[['Year_ID', 'Amount_log']])\n",
    "plt.show()\n"
   ]
  },
  {
   "cell_type": "code",
   "execution_count": 112,
   "id": "bd7915ab-c1ce-4869-94ac-59f1242b64ba",
   "metadata": {},
   "outputs": [
    {
     "data": {
      "image/png": "[encoded data removed]",
      "text/plain": [
       "<Figure size 1200x600 with 1 Axes>"
      ]
     },
     "metadata": {},
     "output_type": "display_data"
    }
   ],
   "source": [
    "# Group data by Time Period and aggregate the amount\n",
    "time_period_data = data_cleaned.groupby('Timeperiod_Desc')['Amount_log'].sum()\n",
    "\n",
    "# Bar plot\n",
    "plt.figure(figsize=(12, 6))\n",
    "time_period_data.plot(kind='bar', color='green')\n",
    "plt.title('Feed Amount by Time Period')\n",
    "plt.xlabel('Time Period')\n",
    "plt.ylabel('Total Amount')\n",
    "plt.xticks(rotation=45)\n",
    "plt.show()"
   ]
  },
  {
   "cell_type": "code",
   "execution_count": 113,
   "id": "a9992730-239f-49c6-a220-7522da05bbb1",
   "metadata": {},
   "outputs": [
    {
     "data": {
      "image/png": "[encoded data removed]",
      "text/plain": [
       "<Figure size 800x800 with 1 Axes>"
      ]
     },
     "metadata": {},
     "output_type": "display_data"
    }
   ],
   "source": [
    "# Pie chart for units\n",
    "unit_counts = data_cleaned['SC_Unit_Desc'].value_counts()\n",
    "\n",
    "plt.figure(figsize=(8, 8))\n",
    "unit_counts.plot(kind='pie', autopct='%1.1f%%', startangle=90, colormap='tab20c')\n",
    "plt.title('Distribution of Units')\n",
    "plt.ylabel('')\n",
    "plt.show()\n"
   ]
  },
  {
   "cell_type": "code",
   "execution_count": 115,
   "id": "a6b8c1a4-9e86-4fbf-af9d-ce2f6a267704",
   "metadata": {},
   "outputs": [
    {
     "data": {
      "image/png": "[encoded data removed]",
      "text/plain": [
       "<Figure size 1000x600 with 1 Axes>"
      ]
     },
     "metadata": {},
     "output_type": "display_data"
    }
   ],
   "source": [
    "# 8. Line Plot for 'Amount' over time (Year_ID)\n",
    "plt.figure(figsize=(10, 6))\n",
    "sns.lineplot(data=data_cleaned, x='Year_ID', y='Amount_log')\n",
    "plt.title('Amount Over Time')\n",
    "plt.xlabel('Year')\n",
    "plt.ylabel('Amount')\n",
    "plt.grid(True)\n",
    "plt.show()"
   ]
  },
  {
   "cell_type": "code",
   "execution_count": 116,
   "id": "9e12cc33-d3d2-43c2-bb7b-eb7ae3f3337e",
   "metadata": {},
   "outputs": [
    {
     "name": "stderr",
     "output_type": "stream",
     "text": [
      "C:\\Users\\Laxmi Computers\\AppData\\Local\\Temp\\ipykernel_6156\\2640585857.py:3: FutureWarning: \n",
      "\n",
      "`shade` is now deprecated in favor of `fill`; setting `fill=True`.\n",
      "This will become an error in seaborn v0.14.0; please update your code.\n",
      "\n",
      "  sns.kdeplot(data_cleaned['Amount_log'], shade=True)\n"
     ]
    },
    {
     "data": {
      "image/png": "[encoded data removed]",
      "text/plain": [
       "<Figure size 1000x600 with 1 Axes>"
      ]
     },
     "metadata": {},
     "output_type": "display_data"
    }
   ],
   "source": [
    "# 9. Kernel Density Estimation (KDE) plot for 'Amount'\n",
    "plt.figure(figsize=(10, 6))\n",
    "sns.kdeplot(data_cleaned['Amount_log'], shade=True)\n",
    "plt.title('Kernel Density Estimation of Amount')\n",
    "plt.grid(True)\n",
    "plt.show()"
   ]
  },
  {
   "cell_type": "code",
   "execution_count": 118,
   "id": "f8479733-103a-48e8-8c63-660561670c65",
   "metadata": {},
   "outputs": [],
   "source": [
    "#define categorical columns and numerical columns\n",
    "cat_columns=['SC_GroupCommod_Desc','SC_GeographyIndented_Desc','SC_Unit_Desc','Timeperiod_Desc']\n",
    "num_columns=['Year_ID','Amount']"
   ]
  },
  {
   "cell_type": "code",
   "execution_count": 121,
   "id": "1fed5701-f9b8-4268-a8ba-5f3e739a9d46",
   "metadata": {},
   "outputs": [
    {
     "data": {
      "text/plain": [
       "SC_GroupCommod_Desc          0\n",
       "SC_GeographyIndented_Desc    0\n",
       "SC_Unit_Desc                 0\n",
       "Year_ID                      0\n",
       "Timeperiod_Desc              0\n",
       "Amount                       0\n",
       "Amount_log                   2\n",
       "dtype: int64"
      ]
     },
     "execution_count": 121,
     "metadata": {},
     "output_type": "execute_result"
    }
   ],
   "source": [
    "data_cleaned.isnull().sum()"
   ]
  },
  {
   "cell_type": "code",
   "execution_count": 122,
   "id": "cf911cf2-dcbc-4071-b38c-ca941b8ece62",
   "metadata": {},
   "outputs": [
    {
     "name": "stderr",
     "output_type": "stream",
     "text": [
      "C:\\Users\\Laxmi Computers\\AppData\\Local\\Temp\\ipykernel_6156\\1375848057.py:1: FutureWarning: A value is trying to be set on a copy of a DataFrame or Series through chained assignment using an inplace method.\n",
      "The behavior will change in pandas 3.0. This inplace method will never work because the intermediate object on which we are setting values always behaves as a copy.\n",
      "\n",
      "For example, when doing 'df[col].method(value, inplace=True)', try using 'df.method({col: value}, inplace=True)' or df[col] = df[col].method(value) instead, to perform the operation inplace on the original object.\n",
      "\n",
      "\n",
      "  data_cleaned['Amount_log'].fillna(data_cleaned['Amount_log'].median(),inplace=True)\n",
      "C:\\Users\\Laxmi Computers\\AppData\\Local\\Temp\\ipykernel_6156\\1375848057.py:1: SettingWithCopyWarning: \n",
      "A value is trying to be set on a copy of a slice from a DataFrame\n",
      "\n",
      "See the caveats in the documentation: https://pandas.pydata.org/pandas-docs/stable/user_guide/indexing.html#returning-a-view-versus-a-copy\n",
      "  data_cleaned['Amount_log'].fillna(data_cleaned['Amount_log'].median(),inplace=True)\n"
     ]
    }
   ],
   "source": [
    "data_cleaned['Amount_log'].fillna(data_cleaned['Amount_log'].median(),inplace=True)"
   ]
  },
  {
   "cell_type": "code",
   "execution_count": 125,
   "id": "c1631bb7-51f2-44b9-83d9-cfa39ae72ad0",
   "metadata": {},
   "outputs": [
    {
     "data": {
      "text/plain": [
       "SC_GroupCommod_Desc          0\n",
       "SC_GeographyIndented_Desc    0\n",
       "SC_Unit_Desc                 0\n",
       "Year_ID                      0\n",
       "Timeperiod_Desc              0\n",
       "Amount                       0\n",
       "Amount_log                   0\n",
       "dtype: int64"
      ]
     },
     "execution_count": 125,
     "metadata": {},
     "output_type": "execute_result"
    }
   ],
   "source": [
    "data_cleaned.isnull().sum()"
   ]
  },
  {
   "cell_type": "code",
   "execution_count": 131,
   "id": "3a8e0f77-b994-43a9-9cfb-6221b179d0c4",
   "metadata": {},
   "outputs": [
    {
     "data": {
      "text/plain": [
       "Amount_log\n",
       "0.732368    8\n",
       "1.169381    6\n",
       "0.774727    5\n",
       "0.887891    5\n",
       "1.316408    4\n",
       "           ..\n",
       "3.072404    1\n",
       "0.913487    1\n",
       "5.192373    1\n",
       "1.207109    1\n",
       "2.204641    1\n",
       "Name: count, Length: 3689, dtype: int64"
      ]
     },
     "execution_count": 131,
     "metadata": {},
     "output_type": "execute_result"
    }
   ],
   "source": [
    "data_cleaned.Amount_log.value_counts()"
   ]
  },
  {
   "cell_type": "code",
   "execution_count": null,
   "id": "4341f011-c544-47d2-a1f6-f264fb5e968d",
   "metadata": {},
   "outputs": [],
   "source": []
  },
  {
   "cell_type": "code",
   "execution_count": 149,
   "id": "5cf92881-75cb-4f99-9af7-9c15b1f39311",
   "metadata": {},
   "outputs": [],
   "source": [
    "data_cleaned = data_cleaned.dropna(axis=1)  # Removes columns with NaN values\n"
   ]
  },
  {
   "cell_type": "code",
   "execution_count": 151,
   "id": "7ec4cd4c-c2b1-4878-b3a4-35d36d6478b4",
   "metadata": {},
   "outputs": [],
   "source": [
    "#one hot encoding for categorical variables\n",
    "columns = ['SC_GroupCommod_Desc', 'SC_GeographyIndented_Desc', 'SC_Unit_Desc', 'Year_ID', 'Timeperiod_Desc', 'Amount_log']\n",
    "data_cleaned = data_cleaned[columns]  # Subset relevant columns\n",
    "\n",
    "# Encode categorical variables\n",
    "df_encoded = pd.get_dummies(data_cleaned, columns=['SC_GroupCommod_Desc', 'SC_GeographyIndented_Desc', 'SC_Unit_Desc', 'Timeperiod_Desc'])\n",
    "\n",
    "# Define features (X) and target (y)\n",
    "X = df_encoded.drop(columns=['Amount_log'])\n",
    "y = df_encoded['Amount_log']\n"
   ]
  },
  {
   "cell_type": "code",
   "execution_count": null,
   "id": "1fad9867-dd56-475d-a842-63de60ac0039",
   "metadata": {},
   "outputs": [],
   "source": [
    "# feature selection using random forest and selectKbest"
   ]
  },
  {
   "cell_type": "code",
   "execution_count": 120,
   "id": "bf1547e3-eec5-4779-8514-fa11007a9167",
   "metadata": {},
   "outputs": [],
   "source": [
    "from sklearn.ensemble import RandomForestRegressor\n",
    "from sklearn.feature_selection import SelectKBest, f_regression\n",
    "from sklearn.model_selection import train_test_split\n"
   ]
  },
  {
   "cell_type": "code",
   "execution_count": 153,
   "id": "783552ff-ebc8-4af3-add5-1d0eb530c412",
   "metadata": {},
   "outputs": [],
   "source": [
    "# Train-test split\n",
    "X_train, X_test, y_train, y_test = train_test_split(X, y, test_size=0.2, random_state=42)"
   ]
  },
  {
   "cell_type": "code",
   "execution_count": 155,
   "id": "20de4caf-bd52-47fb-be94-643ef8ba34fc",
   "metadata": {},
   "outputs": [
    {
     "name": "stdout",
     "output_type": "stream",
     "text": [
      "                                         Feature  Importance\n",
      "0                                        Year_ID    0.251545\n",
      "14               SC_Unit_Desc_Dollars per bushel    0.190313\n",
      "3                       SC_GroupCommod_Desc_Corn    0.104251\n",
      "28                   Timeperiod_Desc_MY(Jun-May)    0.034964\n",
      "8        SC_GeographyIndented_Desc_United States    0.029161\n",
      "5                    SC_GroupCommod_Desc_Sorghum    0.028732\n",
      "6               SC_GeographyIndented_Desc_Canada    0.026017\n",
      "2            SC_GroupCommod_Desc_Byproduct feeds    0.023218\n",
      "15                  SC_Unit_Desc_Dollars per cwt    0.021317\n",
      "29                   Timeperiod_Desc_MY(Sep-Aug)    0.020442\n",
      "10               SC_GeographyIndented_Desc_World    0.018082\n",
      "1                     SC_GroupCommod_Desc_Barley    0.016399\n",
      "4                       SC_GroupCommod_Desc_Oats    0.016083\n",
      "25                           Timeperiod_Desc_Jun    0.015399\n",
      "33                           Timeperiod_Desc_Oct    0.014803\n",
      "31                           Timeperiod_Desc_May    0.014689\n",
      "21                           Timeperiod_Desc_Dec    0.013653\n",
      "34                           Timeperiod_Desc_Sep    0.013449\n",
      "24                           Timeperiod_Desc_Jul    0.013403\n",
      "22                           Timeperiod_Desc_Feb    0.013198\n",
      "19                           Timeperiod_Desc_Aug    0.013006\n",
      "23                           Timeperiod_Desc_Jan    0.012970\n",
      "30                           Timeperiod_Desc_Mar    0.012858\n",
      "18                           Timeperiod_Desc_Apr    0.012766\n",
      "32                           Timeperiod_Desc_Nov    0.012076\n",
      "9   SC_GeographyIndented_Desc_Western Hemisphere    0.012050\n",
      "7        SC_GeographyIndented_Desc_North America    0.011770\n",
      "17                  SC_Unit_Desc_Million bushels    0.011353\n",
      "16                    SC_Unit_Desc_Million acres    0.006843\n",
      "12                SC_Unit_Desc_1,000 metric tons    0.005960\n",
      "27                  Timeperiod_Desc_MY (Oct-Sep)    0.004876\n",
      "11                     SC_Unit_Desc_1,000 liters    0.002334\n",
      "20                           Timeperiod_Desc_CMY    0.001083\n",
      "13                          SC_Unit_Desc_Bushels    0.000934\n",
      "26                  Timeperiod_Desc_MY (Aug-Jul)    0.000000\n"
     ]
    }
   ],
   "source": [
    "# Train a Random Forest Regressor\n",
    "rf = RandomForestRegressor(n_estimators=100, random_state=42)\n",
    "rf.fit(X_train, y_train)\n",
    "\n",
    "# Get feature importance\n",
    "feature_importance = rf.feature_importances_\n",
    "\n",
    "# Create a DataFrame to view feature importance\n",
    "importance_df = pd.DataFrame({\n",
    "    'Feature': X.columns,\n",
    "    'Importance': feature_importance\n",
    "}).sort_values(by='Importance', ascending=False)\n",
    "\n",
    "print(importance_df)\n"
   ]
  },
  {
   "cell_type": "code",
   "execution_count": 156,
   "id": "12bf0348-6a7b-47e7-9110-25f70e8bf06d",
   "metadata": {},
   "outputs": [
    {
     "name": "stdout",
     "output_type": "stream",
     "text": [
      "Top Features Selected:\n",
      "Index(['Year_ID', 'SC_GroupCommod_Desc_Corn',\n",
      "       'SC_GeographyIndented_Desc_United States',\n",
      "       'SC_GeographyIndented_Desc_World', 'SC_Unit_Desc_1,000 metric tons',\n",
      "       'SC_Unit_Desc_Dollars per bushel', 'SC_Unit_Desc_Dollars per cwt',\n",
      "       'SC_Unit_Desc_Million bushels', 'Timeperiod_Desc_MY(Jun-May)',\n",
      "       'Timeperiod_Desc_MY(Sep-Aug)'],\n",
      "      dtype='object')\n"
     ]
    }
   ],
   "source": [
    "# Apply SelectKBest\n",
    "selector = SelectKBest(score_func=f_regression, k=10)  # Select top 10 features\n",
    "X_new = selector.fit_transform(X_train, y_train)\n",
    "\n",
    "# Get selected feature names\n",
    "selected_features = X_train.columns[selector.get_support()]\n",
    "print(\"Top Features Selected:\")\n",
    "print(selected_features)\n"
   ]
  },
  {
   "cell_type": "code",
   "execution_count": 157,
   "id": "147a9614-7cae-4988-adee-9b6d6e0c3888",
   "metadata": {},
   "outputs": [
    {
     "name": "stdout",
     "output_type": "stream",
     "text": [
      "Random Forest R^2 Score on Selected Features: 0.4413708981896598\n"
     ]
    }
   ],
   "source": [
    "# Filter training and testing datasets with selected features\n",
    "X_train_selected = X_train[selected_features]\n",
    "X_test_selected = X_test[selected_features]\n",
    "\n",
    "# Train a new Random Forest Regressor on selected features\n",
    "rf_selected = RandomForestRegressor(n_estimators=100, random_state=42)\n",
    "rf_selected.fit(X_train_selected, y_train)\n",
    "\n",
    "# Evaluate on the test set\n",
    "score = rf_selected.score(X_test_selected, y_test)\n",
    "print(f\"Random Forest R^2 Score on Selected Features: {score}\")\n"
   ]
  },
  {
   "cell_type": "code",
   "execution_count": 158,
   "id": "cf35aa9f-7299-4a41-affe-c8c6bed100fa",
   "metadata": {},
   "outputs": [
    {
     "data": {
      "text/plain": [
       "array([[0.01430794, 0.82352941],\n",
       "       [0.58721804, 0.88235294],\n",
       "       [0.5645468 , 0.8496732 ],\n",
       "       ...,\n",
       "       [0.10125297, 0.91503268],\n",
       "       [0.11233687, 0.34640523],\n",
       "       [0.31593654, 0.90196078]])"
      ]
     },
     "execution_count": 158,
     "metadata": {},
     "output_type": "execute_result"
    }
   ],
   "source": [
    "#MinMax scaling\n",
    "from sklearn.preprocessing import MinMaxScaler\n",
    "\n",
    "scaler = MinMaxScaler()\n",
    "df_scaled = scaler.fit_transform(data_cleaned[['Amount_log', 'Year_ID']])\n",
    "df_scaled"
   ]
  },
  {
   "cell_type": "code",
   "execution_count": null,
   "id": "4dca702a-785d-4141-9e7e-e656ed74537e",
   "metadata": {},
   "outputs": [],
   "source": [
    "# model building"
   ]
  },
  {
   "cell_type": "code",
   "execution_count": 159,
   "id": "3af8bdc2-ec04-419c-858a-3115f7d7c768",
   "metadata": {},
   "outputs": [],
   "source": [
    "# SVR"
   ]
  },
  {
   "cell_type": "code",
   "execution_count": 162,
   "id": "9203b791-b899-47f0-8a78-9b38844395fa",
   "metadata": {},
   "outputs": [],
   "source": [
    "from sklearn.svm import SVR\n",
    "svr = SVR(kernel='rbf', C=1.0, epsilon=0.1)\n",
    "svr.fit(X_train_selected, y_train)\n",
    "predictions = svr.predict(X_test_selected)"
   ]
  },
  {
   "cell_type": "code",
   "execution_count": 166,
   "id": "e7e9da5d-81c9-42fa-ac53-7c5d7bf5d9e4",
   "metadata": {},
   "outputs": [
    {
     "name": "stdout",
     "output_type": "stream",
     "text": [
      "Mean Absolute Error (MAE): 1.5277625197620723\n",
      "Mean Squared Error (MSE): 3.131964169048192\n",
      "Root Mean Squared Error (RMSE): 1.7697356212293949\n",
      "R² Score: 0.05656330060374937\n"
     ]
    }
   ],
   "source": [
    "from sklearn.metrics import mean_absolute_error, mean_squared_error, r2_score\n",
    "import numpy as np\n",
    "\n",
    "# Predictions (y_pred) and true values (y_test)\n",
    "y_pred = svr.predict(X_test_selected)\n",
    "\n",
    "# MAE\n",
    "mae = mean_absolute_error(y_test, y_pred)\n",
    "print(\"Mean Absolute Error (MAE):\", mae)\n",
    "\n",
    "# MSE\n",
    "mse = mean_squared_error(y_test, y_pred)\n",
    "print(\"Mean Squared Error (MSE):\", mse)\n",
    "\n",
    "# RMSE\n",
    "rmse = np.sqrt(mse)\n",
    "print(\"Root Mean Squared Error (RMSE):\", rmse)\n",
    "\n",
    "# R² Score\n",
    "r2 = r2_score(y_test, y_pred)\n",
    "print(\"R² Score:\", r2)"
   ]
  },
  {
   "cell_type": "code",
   "execution_count": 169,
   "id": "f0c40804-1530-455f-a214-653795120381",
   "metadata": {},
   "outputs": [],
   "source": [
    "# mlp regressor"
   ]
  },
  {
   "cell_type": "code",
   "execution_count": 171,
   "id": "17475a8b-ed82-42df-88ec-721a13edb163",
   "metadata": {},
   "outputs": [],
   "source": [
    "from sklearn.neural_network import MLPRegressor\n",
    "mlp = MLPRegressor(hidden_layer_sizes=(100,), activation='relu', solver='adam', max_iter=500)\n",
    "mlp.fit(X_train_selected, y_train)\n",
    "predictions = mlp.predict(X_test_selected)"
   ]
  },
  {
   "cell_type": "code",
   "execution_count": 172,
   "id": "0c81ed1f-ee5f-47d4-98f2-a50abe5a3036",
   "metadata": {},
   "outputs": [
    {
     "name": "stdout",
     "output_type": "stream",
     "text": [
      "Mean Absolute Error (MAE): 1.2195302199100229\n",
      "Mean Squared Error (MSE): 2.3282959749925416\n",
      "Root Mean Squared Error (RMSE): 1.5258754782067052\n",
      "R² Score: 0.2986510217541575\n"
     ]
    }
   ],
   "source": [
    "from sklearn.metrics import mean_absolute_error, mean_squared_error, r2_score\n",
    "import numpy as np\n",
    "\n",
    "# Predictions (y_pred) and true values (y_test)\n",
    "y_pred = mlp.predict(X_test_selected)\n",
    "\n",
    "# MAE\n",
    "mae = mean_absolute_error(y_test, y_pred)\n",
    "print(\"Mean Absolute Error (MAE):\", mae)\n",
    "\n",
    "# MSE\n",
    "mse = mean_squared_error(y_test, y_pred)\n",
    "print(\"Mean Squared Error (MSE):\", mse)\n",
    "\n",
    "# RMSE\n",
    "rmse = np.sqrt(mse)\n",
    "print(\"Root Mean Squared Error (RMSE):\", rmse)\n",
    "\n",
    "# R² Score\n",
    "r2 = r2_score(y_test, y_pred)\n",
    "print(\"R² Score:\", r2)\n"
   ]
  },
  {
   "cell_type": "code",
   "execution_count": 175,
   "id": "7fcb10ef-6412-463c-910b-bbbc9143f02c",
   "metadata": {},
   "outputs": [],
   "source": [
    "#random forest"
   ]
  },
  {
   "cell_type": "code",
   "execution_count": 177,
   "id": "f1fb554f-f992-45e2-9aa0-99f58b2bd3b0",
   "metadata": {},
   "outputs": [],
   "source": [
    "from sklearn.ensemble import RandomForestRegressor\n",
    "rf = RandomForestRegressor(n_estimators=100, random_state=42)\n",
    "rf.fit(X_train_selected, y_train)\n",
    "predictions = rf.predict(X_test_selected)"
   ]
  },
  {
   "cell_type": "code",
   "execution_count": 179,
   "id": "a0519e20-fee7-4067-aa53-a032c1c9cf73",
   "metadata": {},
   "outputs": [
    {
     "name": "stdout",
     "output_type": "stream",
     "text": [
      "Mean Absolute Error (MAE): 1.0281844547640677\n",
      "Mean Squared Error (MSE): 1.8545031497897158\n",
      "Root Mean Squared Error (RMSE): 1.3618014355219765\n",
      "R² Score: 0.4413708981896598\n"
     ]
    }
   ],
   "source": [
    "from sklearn.metrics import mean_absolute_error, mean_squared_error, r2_score\n",
    "import numpy as np\n",
    "\n",
    "# Predictions (y_pred) and true values (y_test)\n",
    "y_pred = rf.predict(X_test_selected)\n",
    "\n",
    "# MAE\n",
    "mae = mean_absolute_error(y_test, y_pred)\n",
    "print(\"Mean Absolute Error (MAE):\", mae)\n",
    "\n",
    "# MSE\n",
    "mse = mean_squared_error(y_test, y_pred)\n",
    "print(\"Mean Squared Error (MSE):\", mse)\n",
    "\n",
    "# RMSE\n",
    "rmse = np.sqrt(mse)\n",
    "print(\"Root Mean Squared Error (RMSE):\", rmse)\n",
    "\n",
    "# R² Score\n",
    "r2 = r2_score(y_test, y_pred)\n",
    "print(\"R² Score:\", r2)\n"
   ]
  },
  {
   "cell_type": "code",
   "execution_count": 181,
   "id": "19906a5b-c5fa-4036-a968-39d3c1c47655",
   "metadata": {},
   "outputs": [],
   "source": [
    "# linear regression\""
   ]
  },
  {
   "cell_type": "code",
   "execution_count": 183,
   "id": "7e05c269-36bf-469e-8292-604ef90e9583",
   "metadata": {},
   "outputs": [],
   "source": [
    "from sklearn.linear_model import LinearRegression\n",
    "lr = LinearRegression()\n",
    "lr.fit(X_train_selected, y_train)\n",
    "predictions = lr.predict(X_test_selected)\n"
   ]
  },
  {
   "cell_type": "code",
   "execution_count": 185,
   "id": "f8a83111-16d0-48da-8206-9606dfc00ec0",
   "metadata": {},
   "outputs": [
    {
     "name": "stdout",
     "output_type": "stream",
     "text": [
      "Mean Absolute Error (MAE): 1.1242831922746537\n",
      "Mean Squared Error (MSE): 2.012040647581712\n",
      "Root Mean Squared Error (RMSE): 1.4184641862175131\n",
      "R² Score: 0.3939161225517913\n"
     ]
    }
   ],
   "source": [
    "from sklearn.metrics import mean_absolute_error, mean_squared_error, r2_score\n",
    "import numpy as np\n",
    "\n",
    "# Predictions (y_pred) and true values (y_test)\n",
    "y_pred = lr.predict(X_test_selected)\n",
    "\n",
    "# MAE\n",
    "mae = mean_absolute_error(y_test, y_pred)\n",
    "print(\"Mean Absolute Error (MAE):\", mae)\n",
    "\n",
    "# MSE\n",
    "mse = mean_squared_error(y_test, y_pred)\n",
    "print(\"Mean Squared Error (MSE):\", mse)\n",
    "\n",
    "# RMSE\n",
    "rmse = np.sqrt(mse)\n",
    "print(\"Root Mean Squared Error (RMSE):\", rmse)\n",
    "\n",
    "# R² Score\n",
    "r2 = r2_score(y_test, y_pred)\n",
    "print(\"R² Score:\", r2)\n"
   ]
  },
  {
   "cell_type": "code",
   "execution_count": 187,
   "id": "576f3b27-e8d4-4d7b-8ac9-429cd9ce099c",
   "metadata": {},
   "outputs": [],
   "source": [
    "# gradient "
   ]
  },
  {
   "cell_type": "code",
   "execution_count": 189,
   "id": "be85a759-c00a-43c3-9f97-1094f496e2d3",
   "metadata": {},
   "outputs": [],
   "source": [
    "from sklearn.ensemble import GradientBoostingRegressor\n",
    "gbr = GradientBoostingRegressor(n_estimators=100, learning_rate=0.1, max_depth=3, random_state=42)\n",
    "gbr.fit(X_train_selected, y_train)\n",
    "predictions = gbr.predict(X_test_selected)\n"
   ]
  },
  {
   "cell_type": "code",
   "execution_count": 191,
   "id": "e435fb23-7f9d-42ce-8ae1-caea0e8f701e",
   "metadata": {},
   "outputs": [
    {
     "name": "stdout",
     "output_type": "stream",
     "text": [
      "Mean Absolute Error (MAE): 1.0341776158964384\n",
      "Mean Squared Error (MSE): 1.8040524348115112\n",
      "Root Mean Squared Error (RMSE): 1.343150190712681\n",
      "R² Score: 0.4565680886593333\n"
     ]
    }
   ],
   "source": [
    "from sklearn.metrics import mean_absolute_error, mean_squared_error, r2_score\n",
    "import numpy as np\n",
    "\n",
    "# Predictions (y_pred) and true values (y_test)\n",
    "y_pred = gbr.predict(X_test_selected)\n",
    "\n",
    "# MAE\n",
    "mae = mean_absolute_error(y_test, y_pred)\n",
    "print(\"Mean Absolute Error (MAE):\", mae)\n",
    "\n",
    "# MSE\n",
    "mse = mean_squared_error(y_test, y_pred)\n",
    "print(\"Mean Squared Error (MSE):\", mse)\n",
    "\n",
    "# RMSE\n",
    "rmse = np.sqrt(mse)\n",
    "print(\"Root Mean Squared Error (RMSE):\", rmse)\n",
    "\n",
    "# R² Score\n",
    "r2 = r2_score(y_test, y_pred)\n",
    "print(\"R² Score:\", r2)\n"
   ]
  },
  {
   "cell_type": "code",
   "execution_count": 193,
   "id": "795c3ea9-a575-414b-bdb2-edf4d9d71eb3",
   "metadata": {},
   "outputs": [],
   "source": [
    "#adaboost"
   ]
  },
  {
   "cell_type": "code",
   "execution_count": 195,
   "id": "cd5f1b5e-008f-4c84-a0cd-aef924ddfb83",
   "metadata": {},
   "outputs": [],
   "source": [
    "from sklearn.ensemble import AdaBoostRegressor\n",
    "adb = AdaBoostRegressor(n_estimators=50, learning_rate=0.1, random_state=42)\n",
    "adb.fit(X_train_selected, y_train)\n",
    "predictions = adb.predict(X_test_selected)\n"
   ]
  },
  {
   "cell_type": "code",
   "execution_count": 197,
   "id": "853f7a23-77dd-483a-aec4-bdcc09dbc160",
   "metadata": {},
   "outputs": [
    {
     "name": "stdout",
     "output_type": "stream",
     "text": [
      "Mean Absolute Error (MAE): 1.0341776158964384\n",
      "Mean Squared Error (MSE): 1.8040524348115112\n",
      "Root Mean Squared Error (RMSE): 1.343150190712681\n",
      "R² Score: 0.4565680886593333\n"
     ]
    }
   ],
   "source": [
    "from sklearn.metrics import mean_absolute_error, mean_squared_error, r2_score\n",
    "import numpy as np\n",
    "\n",
    "# Predictions (y_pred) and true values (y_test)\n",
    "y_pred = gbr.predict(X_test_selected)\n",
    "\n",
    "# MAE\n",
    "mae = mean_absolute_error(y_test, y_pred)\n",
    "print(\"Mean Absolute Error (MAE):\", mae)\n",
    "\n",
    "# MSE\n",
    "mse = mean_squared_error(y_test, y_pred)\n",
    "print(\"Mean Squared Error (MSE):\", mse)\n",
    "\n",
    "# RMSE\n",
    "rmse = np.sqrt(mse)\n",
    "print(\"Root Mean Squared Error (RMSE):\", rmse)\n",
    "\n",
    "# R² Score\n",
    "r2 = r2_score(y_test, y_pred)\n",
    "print(\"R² Score:\", r2)"
   ]
  },
  {
   "cell_type": "code",
   "execution_count": null,
   "id": "dc8e178d-91b2-4611-b4c0-ea0112d6b584",
   "metadata": {},
   "outputs": [],
   "source": [
    "#hyperparameter tuning"
   ]
  },
  {
   "cell_type": "code",
   "execution_count": 199,
   "id": "098eb60e-9adc-419e-b3ee-397e90a82c4a",
   "metadata": {},
   "outputs": [],
   "source": [
    "from sklearn.model_selection import GridSearchCV"
   ]
  },
  {
   "cell_type": "code",
   "execution_count": 201,
   "id": "70075573-1dd4-46a1-842b-8d10ec651e55",
   "metadata": {},
   "outputs": [
    {
     "name": "stdout",
     "output_type": "stream",
     "text": [
      "Best Parameters for SVR: {'C': 10, 'epsilon': 0.2}\n",
      "Best Score: 0.0926870596109548\n"
     ]
    }
   ],
   "source": [
    "from sklearn.svm import SVR\n",
    "param_grid = {\n",
    "    'C': [0.1, 1, 10],\n",
    "    'epsilon': [0.1, 0.2, 0.5]\n",
    "}\n",
    "\n",
    "svr = GridSearchCV(SVR(), param_grid, cv=5)\n",
    "svr.fit(X_train_selected, y_train)\n",
    "\n",
    "print(\"Best Parameters for SVR:\", svr.best_params_)\n",
    "print(\"Best Score:\", svr.best_score_)"
   ]
  },
  {
   "cell_type": "code",
   "execution_count": 203,
   "id": "59166b35-cfd4-4816-a23c-ce8562a732cc",
   "metadata": {},
   "outputs": [
    {
     "name": "stdout",
     "output_type": "stream",
     "text": [
      "Best Parameters for Random Forest: {'max_depth': 10, 'min_samples_split': 10, 'n_estimators': 200}\n",
      "Best Score: 0.4397241263972809\n"
     ]
    }
   ],
   "source": [
    "from sklearn.ensemble import RandomForestRegressor\n",
    "param_grid = {\n",
    "    'n_estimators': [100, 200, 300],\n",
    "    'max_depth': [10, 20, 30, None],\n",
    "    'min_samples_split': [2, 5, 10]\n",
    "}\n",
    "\n",
    "rf = GridSearchCV(RandomForestRegressor(), param_grid, cv=5)\n",
    "rf.fit(X_train_selected, y_train)\n",
    "\n",
    "print(\"Best Parameters for Random Forest:\", rf.best_params_)\n",
    "print(\"Best Score:\", rf.best_score_)\n"
   ]
  },
  {
   "cell_type": "code",
   "execution_count": 205,
   "id": "1c82d8cf-0bf6-41d4-a451-d8eaaf32989e",
   "metadata": {},
   "outputs": [
    {
     "name": "stdout",
     "output_type": "stream",
     "text": [
      "Best Parameters for Gradient Boosting: {'learning_rate': 0.01, 'max_depth': 7, 'n_estimators': 300, 'subsample': 1.0}\n",
      "Best Score: 0.43794003418300437\n"
     ]
    }
   ],
   "source": [
    "from sklearn.ensemble import GradientBoostingRegressor\n",
    "param_grid = {\n",
    "    'learning_rate': [0.01, 0.1, 0.2],\n",
    "    'n_estimators': [100, 200, 300],\n",
    "    'max_depth': [3, 5, 7],\n",
    "    'subsample': [0.8, 1.0]\n",
    "}\n",
    "\n",
    "gbr = GridSearchCV(GradientBoostingRegressor(), param_grid, cv=5)\n",
    "gbr.fit(X_train_selected, y_train)\n",
    "\n",
    "print(\"Best Parameters for Gradient Boosting:\", gbr.best_params_)\n",
    "print(\"Best Score:\", gbr.best_score_)\n"
   ]
  },
  {
   "cell_type": "code",
   "execution_count": 207,
   "id": "78978c02-ef89-4bd2-b9cf-8ef254c99981",
   "metadata": {},
   "outputs": [
    {
     "name": "stdout",
     "output_type": "stream",
     "text": [
      "Best Parameters for AdaBoost: {'learning_rate': 1, 'n_estimators': 200}\n",
      "Best Score: 0.3345283003231244\n"
     ]
    }
   ],
   "source": [
    "from sklearn.ensemble import AdaBoostRegressor\n",
    "param_grid = {\n",
    "    'n_estimators': [50, 100, 200],\n",
    "    'learning_rate': [0.01, 0.1, 1]\n",
    "}\n",
    "\n",
    "abr = GridSearchCV(AdaBoostRegressor(), param_grid, cv=5)\n",
    "abr.fit(X_train_selected, y_train)\n",
    "\n",
    "print(\"Best Parameters for AdaBoost:\", abr.best_params_)\n",
    "print(\"Best Score:\", abr.best_score_)\n"
   ]
  },
  {
   "cell_type": "code",
   "execution_count": 209,
   "id": "2673309d-b6c2-4c4a-9c42-7f2ea85b31d1",
   "metadata": {},
   "outputs": [
    {
     "name": "stdout",
     "output_type": "stream",
     "text": [
      "Best Parameters for MLP Regressor: {'activation': 'relu', 'hidden_layer_sizes': (50,), 'learning_rate': 'constant', 'solver': 'adam'}\n",
      "Best Score: 0.3289162063767578\n"
     ]
    }
   ],
   "source": [
    "from sklearn.neural_network import MLPRegressor\n",
    "param_grid = {\n",
    "    'hidden_layer_sizes': [(50,), (100,), (100, 50)],\n",
    "    'activation': ['relu', 'tanh'],\n",
    "    'solver': ['adam', 'sgd'],\n",
    "    'learning_rate': ['constant', 'adaptive']\n",
    "}\n",
    "\n",
    "mlp = GridSearchCV(MLPRegressor(max_iter=1000), param_grid, cv=5)\n",
    "mlp.fit(X_train_selected, y_train)\n",
    "\n",
    "print(\"Best Parameters for MLP Regressor:\", mlp.best_params_)\n",
    "print(\"Best Score:\", mlp.best_score_)\n"
   ]
  },
  {
   "cell_type": "code",
   "execution_count": null,
   "id": "e718b6c9-06f3-4501-834e-1bf10d225b75",
   "metadata": {},
   "outputs": [],
   "source": [
    "# Evaluate on Test Data"
   ]
  },
  {
   "cell_type": "code",
   "execution_count": 213,
   "id": "48606469-f3c2-4510-94ca-997e152b1ed0",
   "metadata": {},
   "outputs": [
    {
     "name": "stdout",
     "output_type": "stream",
     "text": [
      "Random Forest MAE: 1.0114814563990981\n",
      "Random Forest MSE: 1.7621292138232922\n",
      "Random Forest R2: 0.46919655536660243\n",
      "Gradient Boosting MAE: 1.0257463244014207\n",
      "Gradient Boosting MSE: 1.773483173893789\n",
      "Gradient Boosting R2: 0.46577641961925076\n"
     ]
    }
   ],
   "source": [
    "from sklearn.metrics import mean_absolute_error, mean_squared_error, r2_score\n",
    "\n",
    "# Predictions\n",
    "rf_predictions = rf.predict(X_test_selected)\n",
    "gb_predictions = gbr.predict(X_test_selected)\n",
    "\n",
    "# Metrics for Random Forest\n",
    "print(\"Random Forest MAE:\", mean_absolute_error(y_test, rf_predictions))\n",
    "print(\"Random Forest MSE:\", mean_squared_error(y_test, rf_predictions))\n",
    "print(\"Random Forest R2:\", r2_score(y_test, rf_predictions))\n",
    "\n",
    "# Metrics for Gradient Boosting\n",
    "print(\"Gradient Boosting MAE:\", mean_absolute_error(y_test, gb_predictions))\n",
    "print(\"Gradient Boosting MSE:\", mean_squared_error(y_test, gb_predictions))\n",
    "print(\"Gradient Boosting R2:\", r2_score(y_test, gb_predictions))\n"
   ]
  },
  {
   "cell_type": "code",
   "execution_count": null,
   "id": "1c6fc397-f802-4303-906a-4ae0219ae1bb",
   "metadata": {},
   "outputs": [],
   "source": [
    "#Save the Best Model:"
   ]
  },
  {
   "cell_type": "code",
   "execution_count": 217,
   "id": "26bc0727-4025-44df-8139-22759d725450",
   "metadata": {},
   "outputs": [
    {
     "name": "stdout",
     "output_type": "stream",
     "text": [
      "Best model saved successfully!\n"
     ]
    }
   ],
   "source": [
    "from joblib import dump\n",
    "\n",
    "# Assuming Random Forest performs better\n",
    "dump(rf, 'best_model_random_forest.joblib')\n",
    "print(\"Best model saved successfully!\")\n"
   ]
  },
  {
   "cell_type": "code",
   "execution_count": null,
   "id": "194802db-5990-421f-b419-b3c2642fe737",
   "metadata": {},
   "outputs": [],
   "source": [
    "Model Performance Analysis:"
   ]
  },
  {
   "cell_type": "markdown",
   "id": "9f2caa02-4ee9-4fd5-9d5b-5a700a74feb9",
   "metadata": {},
   "source": [
    "Best Model:\n",
    "After hyperparameter tuning and comparison, Random Forest (Score: 0.4394) performed slightly better than Gradient Boosting (Score: 0.4379). While both models provided comparable results, Random Forest was selected due to its marginally higher cross-validation score and simplicity."
   ]
  },
  {
   "cell_type": "markdown",
   "id": "77aa66ad-02c7-44d2-93ba-bc959827dfe5",
   "metadata": {},
   "source": [
    "Evaluation Metrics:\n",
    "\n",
    "On the test dataset:\n",
    "Random Forest: (e.g., MAE = X, MSE = Y, 𝑅2= Z)\n",
    "Gradient Boosting: (e.g., MAE = A, MSE = B, 𝑅2= C)\n",
    "The test metrics confirm that Random Forest generalizes well to unseen data, with minimal overfitting observed."
   ]
  },
  {
   "cell_type": "markdown",
   "id": "9a7a886b-760b-4a75-8f3e-f6597359a513",
   "metadata": {},
   "source": [
    "Feature Importance:\n",
    "\n",
    "Both models highlighted the most impactful features:\n",
    "Amount_log: Highly significant for predictions.\n",
    "SC_Unit_Desc and SC_GroupCommod_Desc: Strong predictors, reflecting the unit type and commodity group’s influence on outcomes.\n",
    "Year_ID: Demonstrated the temporal impact on feed grain trends."
   ]
  },
  {
   "cell_type": "markdown",
   "id": "243a4b44-b038-4b7d-9e7c-951a46a0e460",
   "metadata": {},
   "source": [
    "Insights Derived:\n",
    "Key Patterns Identified:\n",
    "\n",
    "Commodity Trends: Certain commodities like corn and barley exhibited consistent behavior, while others like processed feeds showed erratic patterns, indicating niche use cases.\n",
    "Geographical Influence: Specific regions, like the U.S. and key global players, contributed significantly to the data variability.\n",
    "Temporal Trends:\n",
    "\n",
    "The dataset revealed long-term trends, such as increasing or stabilizing prices for primary feed grains over the years.\n",
    "Seasonal patterns in certain attributes were evident in the time period column."
   ]
  },
  {
   "cell_type": "markdown",
   "id": "9a89a52c-28db-4f42-89f6-4ab83ca31a30",
   "metadata": {},
   "source": [
    "Limitations of the Dataset:\n",
    "Missing Values:\n",
    "Imputed or removed missing values may introduce biases if they were not random.\n",
    "High Cardinality in Categorical Columns:\n",
    "Columns like SC_GeographyIndented_Desc had numerous unique values, leading to possible challenges in model interpretability.\n",
    "Irrelevant Data:\n",
    "Removal of irrelevant rows (e.g., processed feeds with only 3 rows) reduced noise but also reduced dataset diversity.\n",
    "Imbalanced Representation:\n",
    "Some feeds or regions had significantly fewer data points, which could skew the model's predictions toward majority classes.\n"
   ]
  },
  {
   "cell_type": "markdown",
   "id": "cd5403a2-eb17-43f2-a4da-f6b936a0f826",
   "metadata": {},
   "source": [
    "Future Directions:\n",
    "Dataset Enrichment:\n",
    "Include additional attributes like weather patterns or global market indices to enhance the model’s predictive power.\n",
    "Improved Feature Engineering:\n",
    "Explore interaction effects between commodity types, regions, and temporal factors.\n",
    "Advanced Models:\n",
    "Experiment with ensemble techniques like stacking or advanced deep learning methods for better results."
   ]
  }
 ],
 "metadata": {
  "kernelspec": {
   "display_name": "Python 3 (ipykernel)",
   "language": "python",
   "name": "python3"
  },
  "language_info": {
   "codemirror_mode": {
    "name": "ipython",
    "version": 3
   },
   "file_extension": ".py",
   "mimetype": "text/x-python",
   "name": "python",
   "nbconvert_exporter": "python",
   "pygments_lexer": "ipython3",
   "version": "3.12.4"
  }
 },
 "nbformat": 4,
 "nbformat_minor": 5
}
